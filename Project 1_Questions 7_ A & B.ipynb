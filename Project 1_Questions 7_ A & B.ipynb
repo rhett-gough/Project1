{
 "cells": [
  {
   "cell_type": "markdown",
   "id": "d2ffeb31",
   "metadata": {},
   "source": [
    "# Covid-19 Impact in Racial and Ethnic Groups in North Carolina "
   ]
  },
  {
   "cell_type": "code",
   "execution_count": 1,
   "id": "adbf2b48",
   "metadata": {},
   "outputs": [
    {
     "data": {
      "text/html": [
       "<div>\n",
       "<style scoped>\n",
       "    .dataframe tbody tr th:only-of-type {\n",
       "        vertical-align: middle;\n",
       "    }\n",
       "\n",
       "    .dataframe tbody tr th {\n",
       "        vertical-align: top;\n",
       "    }\n",
       "\n",
       "    .dataframe thead th {\n",
       "        text-align: right;\n",
       "    }\n",
       "</style>\n",
       "<table border=\"1\" class=\"dataframe\">\n",
       "  <thead>\n",
       "    <tr style=\"text-align: right;\">\n",
       "      <th></th>\n",
       "      <th>State</th>\n",
       "      <th>Date</th>\n",
       "      <th>Cases_Asian</th>\n",
       "      <th>Cases_AIAN</th>\n",
       "      <th>Cases_Black</th>\n",
       "      <th>Cases_White</th>\n",
       "      <th>Cases_Other</th>\n",
       "      <th>Cases_NHPI</th>\n",
       "      <th>Cases_Multiracial</th>\n",
       "      <th>Cases_LatinX</th>\n",
       "      <th>...</th>\n",
       "      <th>Tests_Black</th>\n",
       "      <th>Tests_Ethnicity_Hispanic</th>\n",
       "      <th>Tests_Ethnicity_NonHispanic</th>\n",
       "      <th>Tests_Ethnicity_Unknown</th>\n",
       "      <th>Tests_LatinX</th>\n",
       "      <th>Tests_Multiracial</th>\n",
       "      <th>Tests_NHPI</th>\n",
       "      <th>Tests_Other</th>\n",
       "      <th>Tests_White</th>\n",
       "      <th>Tests_Total</th>\n",
       "    </tr>\n",
       "  </thead>\n",
       "  <tbody>\n",
       "    <tr>\n",
       "      <th>0</th>\n",
       "      <td>NC</td>\n",
       "      <td>20210307</td>\n",
       "      <td>13620</td>\n",
       "      <td>11199</td>\n",
       "      <td>146993</td>\n",
       "      <td>442322</td>\n",
       "      <td>98470</td>\n",
       "      <td>NaN</td>\n",
       "      <td>NaN</td>\n",
       "      <td>NaN</td>\n",
       "      <td>...</td>\n",
       "      <td>NaN</td>\n",
       "      <td>NaN</td>\n",
       "      <td>NaN</td>\n",
       "      <td>NaN</td>\n",
       "      <td>NaN</td>\n",
       "      <td>NaN</td>\n",
       "      <td>NaN</td>\n",
       "      <td>NaN</td>\n",
       "      <td>NaN</td>\n",
       "      <td>NaN</td>\n",
       "    </tr>\n",
       "    <tr>\n",
       "      <th>1</th>\n",
       "      <td>NC</td>\n",
       "      <td>20210303</td>\n",
       "      <td>13487</td>\n",
       "      <td>11141</td>\n",
       "      <td>145585</td>\n",
       "      <td>438462</td>\n",
       "      <td>97558</td>\n",
       "      <td>NaN</td>\n",
       "      <td>NaN</td>\n",
       "      <td>NaN</td>\n",
       "      <td>...</td>\n",
       "      <td>NaN</td>\n",
       "      <td>NaN</td>\n",
       "      <td>NaN</td>\n",
       "      <td>NaN</td>\n",
       "      <td>NaN</td>\n",
       "      <td>NaN</td>\n",
       "      <td>NaN</td>\n",
       "      <td>NaN</td>\n",
       "      <td>NaN</td>\n",
       "      <td>NaN</td>\n",
       "    </tr>\n",
       "    <tr>\n",
       "      <th>2</th>\n",
       "      <td>NC</td>\n",
       "      <td>20210228</td>\n",
       "      <td>13376</td>\n",
       "      <td>11067</td>\n",
       "      <td>144081</td>\n",
       "      <td>434480</td>\n",
       "      <td>96759</td>\n",
       "      <td>NaN</td>\n",
       "      <td>NaN</td>\n",
       "      <td>NaN</td>\n",
       "      <td>...</td>\n",
       "      <td>NaN</td>\n",
       "      <td>NaN</td>\n",
       "      <td>NaN</td>\n",
       "      <td>NaN</td>\n",
       "      <td>NaN</td>\n",
       "      <td>NaN</td>\n",
       "      <td>NaN</td>\n",
       "      <td>NaN</td>\n",
       "      <td>NaN</td>\n",
       "      <td>NaN</td>\n",
       "    </tr>\n",
       "    <tr>\n",
       "      <th>3</th>\n",
       "      <td>NC</td>\n",
       "      <td>20210224</td>\n",
       "      <td>13218</td>\n",
       "      <td>10938</td>\n",
       "      <td>142475</td>\n",
       "      <td>429471</td>\n",
       "      <td>95828</td>\n",
       "      <td>NaN</td>\n",
       "      <td>NaN</td>\n",
       "      <td>NaN</td>\n",
       "      <td>...</td>\n",
       "      <td>NaN</td>\n",
       "      <td>NaN</td>\n",
       "      <td>NaN</td>\n",
       "      <td>NaN</td>\n",
       "      <td>NaN</td>\n",
       "      <td>NaN</td>\n",
       "      <td>NaN</td>\n",
       "      <td>NaN</td>\n",
       "      <td>NaN</td>\n",
       "      <td>NaN</td>\n",
       "    </tr>\n",
       "    <tr>\n",
       "      <th>4</th>\n",
       "      <td>NC</td>\n",
       "      <td>20210221</td>\n",
       "      <td>13094</td>\n",
       "      <td>10830</td>\n",
       "      <td>141166</td>\n",
       "      <td>425667</td>\n",
       "      <td>95051</td>\n",
       "      <td>NaN</td>\n",
       "      <td>NaN</td>\n",
       "      <td>NaN</td>\n",
       "      <td>...</td>\n",
       "      <td>NaN</td>\n",
       "      <td>NaN</td>\n",
       "      <td>NaN</td>\n",
       "      <td>NaN</td>\n",
       "      <td>NaN</td>\n",
       "      <td>NaN</td>\n",
       "      <td>NaN</td>\n",
       "      <td>NaN</td>\n",
       "      <td>NaN</td>\n",
       "      <td>NaN</td>\n",
       "    </tr>\n",
       "  </tbody>\n",
       "</table>\n",
       "<p>5 rows × 50 columns</p>\n",
       "</div>"
      ],
      "text/plain": [
       "  State      Date  Cases_Asian  Cases_AIAN  Cases_Black  Cases_White  \\\n",
       "0    NC  20210307        13620       11199       146993       442322   \n",
       "1    NC  20210303        13487       11141       145585       438462   \n",
       "2    NC  20210228        13376       11067       144081       434480   \n",
       "3    NC  20210224        13218       10938       142475       429471   \n",
       "4    NC  20210221        13094       10830       141166       425667   \n",
       "\n",
       "   Cases_Other  Cases_NHPI  Cases_Multiracial  Cases_LatinX  ...  Tests_Black  \\\n",
       "0        98470         NaN                NaN           NaN  ...          NaN   \n",
       "1        97558         NaN                NaN           NaN  ...          NaN   \n",
       "2        96759         NaN                NaN           NaN  ...          NaN   \n",
       "3        95828         NaN                NaN           NaN  ...          NaN   \n",
       "4        95051         NaN                NaN           NaN  ...          NaN   \n",
       "\n",
       "   Tests_Ethnicity_Hispanic  Tests_Ethnicity_NonHispanic  \\\n",
       "0                       NaN                          NaN   \n",
       "1                       NaN                          NaN   \n",
       "2                       NaN                          NaN   \n",
       "3                       NaN                          NaN   \n",
       "4                       NaN                          NaN   \n",
       "\n",
       "   Tests_Ethnicity_Unknown  Tests_LatinX  Tests_Multiracial  Tests_NHPI  \\\n",
       "0                      NaN           NaN                NaN         NaN   \n",
       "1                      NaN           NaN                NaN         NaN   \n",
       "2                      NaN           NaN                NaN         NaN   \n",
       "3                      NaN           NaN                NaN         NaN   \n",
       "4                      NaN           NaN                NaN         NaN   \n",
       "\n",
       "   Tests_Other  Tests_White  Tests_Total  \n",
       "0          NaN          NaN          NaN  \n",
       "1          NaN          NaN          NaN  \n",
       "2          NaN          NaN          NaN  \n",
       "3          NaN          NaN          NaN  \n",
       "4          NaN          NaN          NaN  \n",
       "\n",
       "[5 rows x 50 columns]"
      ]
     },
     "execution_count": 1,
     "metadata": {},
     "output_type": "execute_result"
    }
   ],
   "source": [
    "# Dependencies \n",
    "import pandas as pd\n",
    "import matplotlib.pyplot as plt\n",
    "import plotly.express as px\n",
    "import numpy as np\n",
    "from pathlib import Path\n",
    "from matplotlib.dates import DateFormatter, DayLocator\n",
    "\n",
    "# File to load \n",
    "racial_data_covid_df = Path(\"C:/Users/Joanna/Desktop/Project1/Resources/north-carolina-race-ethnicity-historical.csv\")\n",
    "\n",
    "# Read racial data covid and store into Pandas DataFrame\n",
    "racial_data_covid_df= pd.read_csv(racial_data_covid_df)\n",
    "racial_data_covid_df.head()"
   ]
  },
  {
   "cell_type": "code",
   "execution_count": 2,
   "id": "6ef7e1b9",
   "metadata": {},
   "outputs": [
    {
     "data": {
      "text/plain": [
       "['State',\n",
       " 'Date',\n",
       " 'Cases_Asian',\n",
       " 'Cases_AIAN',\n",
       " 'Cases_Black',\n",
       " 'Cases_White',\n",
       " 'Cases_Other',\n",
       " 'Cases_NHPI',\n",
       " 'Cases_Multiracial',\n",
       " 'Cases_LatinX',\n",
       " 'Cases_Ethnicity_NonHispanic',\n",
       " 'Cases_Ethnicity_Hispanic',\n",
       " 'Cases_Ethnicity_Unknown',\n",
       " 'Cases_Total',\n",
       " 'Deaths_AIAN',\n",
       " 'Deaths_Asian',\n",
       " 'Deaths_Black',\n",
       " 'Deaths_Ethnicity_Hispanic',\n",
       " 'Deaths_Ethnicity_NonHispanic',\n",
       " 'Deaths_Ethnicity_Unknown',\n",
       " 'Deaths_LatinX',\n",
       " 'Deaths_Multiracial',\n",
       " 'Deaths_NHPI',\n",
       " 'Deaths_Other',\n",
       " 'Deaths_White',\n",
       " 'Deaths_Total',\n",
       " 'Hospitalizations_AIAN',\n",
       " 'Hospitalizations_Asian',\n",
       " 'Hospitalizations_Black',\n",
       " 'Hospitalizations_Ethnicity_Hispanic',\n",
       " 'Hospitalizations_Ethnicity_NonHispanic',\n",
       " 'Hospitalizations_Ethnicity_Unknown',\n",
       " 'Hospitalizations_LatinX',\n",
       " 'Hospitalizations_Multiracial',\n",
       " 'Hospitalizations_NHPI',\n",
       " 'Hospitalizations_Other',\n",
       " 'Hospitalizations_White',\n",
       " 'Hospitalizations_Total',\n",
       " 'Tests_AIAN',\n",
       " 'Tests_Asian',\n",
       " 'Tests_Black',\n",
       " 'Tests_Ethnicity_Hispanic',\n",
       " 'Tests_Ethnicity_NonHispanic',\n",
       " 'Tests_Ethnicity_Unknown',\n",
       " 'Tests_LatinX',\n",
       " 'Tests_Multiracial',\n",
       " 'Tests_NHPI',\n",
       " 'Tests_Other',\n",
       " 'Tests_White',\n",
       " 'Tests_Total']"
      ]
     },
     "execution_count": 2,
     "metadata": {},
     "output_type": "execute_result"
    }
   ],
   "source": [
    "# Listing all th columns:\n",
    "list(racial_data_covid_df)"
   ]
  },
  {
   "cell_type": "code",
   "execution_count": 3,
   "id": "79ff735e",
   "metadata": {},
   "outputs": [
    {
     "data": {
      "text/plain": [
       "['State',\n",
       " 'Date',\n",
       " 'Cases_Asian',\n",
       " 'Cases_AIAN',\n",
       " 'Cases_Black',\n",
       " 'Cases_White',\n",
       " 'Cases_Other',\n",
       " 'Cases_NHPI',\n",
       " 'Cases_Multiracial',\n",
       " 'Cases_LatinX',\n",
       " 'Cases_Ethnicity_NonHispanic',\n",
       " 'Cases_Ethnicity_Hispanic',\n",
       " 'Cases_Ethnicity_Unknown',\n",
       " 'Cases_Total',\n",
       " 'Deaths_AIAN',\n",
       " 'Deaths_Asian',\n",
       " 'Deaths_Black',\n",
       " 'Deaths_Ethnicity_Hispanic',\n",
       " 'Deaths_Ethnicity_NonHispanic',\n",
       " 'Deaths_Ethnicity_Unknown',\n",
       " 'Deaths_LatinX',\n",
       " 'Deaths_Multiracial',\n",
       " 'Deaths_NHPI',\n",
       " 'Deaths_Other',\n",
       " 'Deaths_White',\n",
       " 'Deaths_Total',\n",
       " 'Hospitalizations_AIAN',\n",
       " 'Hospitalizations_Asian',\n",
       " 'Hospitalizations_Black',\n",
       " 'Hospitalizations_Ethnicity_Hispanic',\n",
       " 'Hospitalizations_Ethnicity_NonHispanic',\n",
       " 'Hospitalizations_Ethnicity_Unknown',\n",
       " 'Hospitalizations_LatinX',\n",
       " 'Hospitalizations_Multiracial',\n",
       " 'Hospitalizations_NHPI',\n",
       " 'Hospitalizations_Other',\n",
       " 'Hospitalizations_White',\n",
       " 'Hospitalizations_Total',\n",
       " 'Tests_AIAN',\n",
       " 'Tests_Asian',\n",
       " 'Tests_Black',\n",
       " 'Tests_Ethnicity_Hispanic',\n",
       " 'Tests_Ethnicity_NonHispanic',\n",
       " 'Tests_Ethnicity_Unknown',\n",
       " 'Tests_LatinX',\n",
       " 'Tests_Multiracial',\n",
       " 'Tests_NHPI',\n",
       " 'Tests_Other',\n",
       " 'Tests_White',\n",
       " 'Tests_Total']"
      ]
     },
     "execution_count": 3,
     "metadata": {},
     "output_type": "execute_result"
    }
   ],
   "source": [
    "# Copy original DF\n",
    "racial_data_df = racial_data_covid_df.copy()\n",
    "list(racial_data_df)"
   ]
  },
  {
   "cell_type": "code",
   "execution_count": 4,
   "id": "cb6dbd4e",
   "metadata": {},
   "outputs": [],
   "source": [
    "columns_to_drop = ['Cases_NHPI', 'Cases_Multiracial', 'Cases_LatinX', 'Deaths_LatinX', 'Deaths_Multiracial', 'Deaths_NHPI', 'Hospitalizations_AIAN', 'Hospitalizations_Asian', 'Hospitalizations_Black', 'Hospitalizations_Ethnicity_Hispanic', 'Hospitalizations_Ethnicity_NonHispanic', 'Hospitalizations_Ethnicity_Unknown', 'Hospitalizations_LatinX', 'Hospitalizations_Multiracial', 'Hospitalizations_NHPI', 'Hospitalizations_Other', 'Hospitalizations_White', 'Hospitalizations_Total', 'Tests_AIAN', 'Tests_Asian', 'Tests_Black', 'Tests_Ethnicity_Hispanic', 'Tests_Ethnicity_NonHispanic', 'Tests_Ethnicity_Unknown', 'Tests_LatinX', 'Tests_Multiracial', 'Tests_NHPI', 'Tests_Other', 'Tests_White', 'Tests_Total']\n",
    "\n",
    "try:\n",
    "    racial_data_df.drop(columns=columns_to_drop, inplace=True)\n",
    "except KeyError as e:\n",
    "    print(f\"Error: {e}\")"
   ]
  },
  {
   "cell_type": "code",
   "execution_count": 5,
   "id": "f67b1368",
   "metadata": {},
   "outputs": [
    {
     "data": {
      "text/html": [
       "<div>\n",
       "<style scoped>\n",
       "    .dataframe tbody tr th:only-of-type {\n",
       "        vertical-align: middle;\n",
       "    }\n",
       "\n",
       "    .dataframe tbody tr th {\n",
       "        vertical-align: top;\n",
       "    }\n",
       "\n",
       "    .dataframe thead th {\n",
       "        text-align: right;\n",
       "    }\n",
       "</style>\n",
       "<table border=\"1\" class=\"dataframe\">\n",
       "  <thead>\n",
       "    <tr style=\"text-align: right;\">\n",
       "      <th></th>\n",
       "      <th>State</th>\n",
       "      <th>Date</th>\n",
       "      <th>Cases_Asian</th>\n",
       "      <th>Cases_AIAN</th>\n",
       "      <th>Cases_Black</th>\n",
       "      <th>Cases_White</th>\n",
       "      <th>Cases_Other</th>\n",
       "      <th>Cases_Ethnicity_NonHispanic</th>\n",
       "      <th>Cases_Ethnicity_Hispanic</th>\n",
       "      <th>Cases_Ethnicity_Unknown</th>\n",
       "      <th>Cases_Total</th>\n",
       "      <th>Deaths_AIAN</th>\n",
       "      <th>Deaths_Asian</th>\n",
       "      <th>Deaths_Black</th>\n",
       "      <th>Deaths_Ethnicity_Hispanic</th>\n",
       "      <th>Deaths_Ethnicity_NonHispanic</th>\n",
       "      <th>Deaths_Ethnicity_Unknown</th>\n",
       "      <th>Deaths_Other</th>\n",
       "      <th>Deaths_White</th>\n",
       "      <th>Deaths_Total</th>\n",
       "    </tr>\n",
       "  </thead>\n",
       "  <tbody>\n",
       "    <tr>\n",
       "      <th>0</th>\n",
       "      <td>NC</td>\n",
       "      <td>20210307</td>\n",
       "      <td>13620</td>\n",
       "      <td>11199</td>\n",
       "      <td>146993</td>\n",
       "      <td>442322</td>\n",
       "      <td>98470</td>\n",
       "      <td>441831</td>\n",
       "      <td>118914</td>\n",
       "      <td>311431</td>\n",
       "      <td>872176</td>\n",
       "      <td>126.0</td>\n",
       "      <td>120</td>\n",
       "      <td>2662</td>\n",
       "      <td>803</td>\n",
       "      <td>8916</td>\n",
       "      <td>1783</td>\n",
       "      <td>716.0</td>\n",
       "      <td>7160</td>\n",
       "      <td>11502</td>\n",
       "    </tr>\n",
       "    <tr>\n",
       "      <th>1</th>\n",
       "      <td>NC</td>\n",
       "      <td>20210303</td>\n",
       "      <td>13487</td>\n",
       "      <td>11141</td>\n",
       "      <td>145585</td>\n",
       "      <td>438462</td>\n",
       "      <td>97558</td>\n",
       "      <td>437229</td>\n",
       "      <td>118156</td>\n",
       "      <td>310169</td>\n",
       "      <td>865554</td>\n",
       "      <td>123.0</td>\n",
       "      <td>120</td>\n",
       "      <td>2633</td>\n",
       "      <td>797</td>\n",
       "      <td>8805</td>\n",
       "      <td>1761</td>\n",
       "      <td>707.0</td>\n",
       "      <td>7067</td>\n",
       "      <td>11363</td>\n",
       "    </tr>\n",
       "    <tr>\n",
       "      <th>2</th>\n",
       "      <td>NC</td>\n",
       "      <td>20210228</td>\n",
       "      <td>13376</td>\n",
       "      <td>11067</td>\n",
       "      <td>144081</td>\n",
       "      <td>434480</td>\n",
       "      <td>96759</td>\n",
       "      <td>432533</td>\n",
       "      <td>117296</td>\n",
       "      <td>308719</td>\n",
       "      <td>858548</td>\n",
       "      <td>119.0</td>\n",
       "      <td>118</td>\n",
       "      <td>2603</td>\n",
       "      <td>787</td>\n",
       "      <td>8704</td>\n",
       "      <td>1721</td>\n",
       "      <td>695.0</td>\n",
       "      <td>6984</td>\n",
       "      <td>11212</td>\n",
       "    </tr>\n",
       "    <tr>\n",
       "      <th>3</th>\n",
       "      <td>NC</td>\n",
       "      <td>20210224</td>\n",
       "      <td>13218</td>\n",
       "      <td>10938</td>\n",
       "      <td>142475</td>\n",
       "      <td>429471</td>\n",
       "      <td>95828</td>\n",
       "      <td>426784</td>\n",
       "      <td>116278</td>\n",
       "      <td>306568</td>\n",
       "      <td>849630</td>\n",
       "      <td>118.0</td>\n",
       "      <td>117</td>\n",
       "      <td>2573</td>\n",
       "      <td>779</td>\n",
       "      <td>8599</td>\n",
       "      <td>1696</td>\n",
       "      <td>684.0</td>\n",
       "      <td>6897</td>\n",
       "      <td>11074</td>\n",
       "    </tr>\n",
       "    <tr>\n",
       "      <th>4</th>\n",
       "      <td>NC</td>\n",
       "      <td>20210221</td>\n",
       "      <td>13094</td>\n",
       "      <td>10830</td>\n",
       "      <td>141166</td>\n",
       "      <td>425667</td>\n",
       "      <td>95051</td>\n",
       "      <td>422261</td>\n",
       "      <td>115587</td>\n",
       "      <td>304789</td>\n",
       "      <td>842637</td>\n",
       "      <td>114.0</td>\n",
       "      <td>115</td>\n",
       "      <td>2550</td>\n",
       "      <td>766</td>\n",
       "      <td>8489</td>\n",
       "      <td>1671</td>\n",
       "      <td>673.0</td>\n",
       "      <td>6800</td>\n",
       "      <td>10926</td>\n",
       "    </tr>\n",
       "  </tbody>\n",
       "</table>\n",
       "</div>"
      ],
      "text/plain": [
       "  State      Date  Cases_Asian  Cases_AIAN  Cases_Black  Cases_White  \\\n",
       "0    NC  20210307        13620       11199       146993       442322   \n",
       "1    NC  20210303        13487       11141       145585       438462   \n",
       "2    NC  20210228        13376       11067       144081       434480   \n",
       "3    NC  20210224        13218       10938       142475       429471   \n",
       "4    NC  20210221        13094       10830       141166       425667   \n",
       "\n",
       "   Cases_Other  Cases_Ethnicity_NonHispanic  Cases_Ethnicity_Hispanic  \\\n",
       "0        98470                       441831                    118914   \n",
       "1        97558                       437229                    118156   \n",
       "2        96759                       432533                    117296   \n",
       "3        95828                       426784                    116278   \n",
       "4        95051                       422261                    115587   \n",
       "\n",
       "   Cases_Ethnicity_Unknown  Cases_Total  Deaths_AIAN  Deaths_Asian  \\\n",
       "0                   311431       872176        126.0           120   \n",
       "1                   310169       865554        123.0           120   \n",
       "2                   308719       858548        119.0           118   \n",
       "3                   306568       849630        118.0           117   \n",
       "4                   304789       842637        114.0           115   \n",
       "\n",
       "   Deaths_Black  Deaths_Ethnicity_Hispanic  Deaths_Ethnicity_NonHispanic  \\\n",
       "0          2662                        803                          8916   \n",
       "1          2633                        797                          8805   \n",
       "2          2603                        787                          8704   \n",
       "3          2573                        779                          8599   \n",
       "4          2550                        766                          8489   \n",
       "\n",
       "   Deaths_Ethnicity_Unknown  Deaths_Other  Deaths_White  Deaths_Total  \n",
       "0                      1783         716.0          7160         11502  \n",
       "1                      1761         707.0          7067         11363  \n",
       "2                      1721         695.0          6984         11212  \n",
       "3                      1696         684.0          6897         11074  \n",
       "4                      1671         673.0          6800         10926  "
      ]
     },
     "execution_count": 5,
     "metadata": {},
     "output_type": "execute_result"
    }
   ],
   "source": [
    "racial_data_df.head()"
   ]
  },
  {
   "cell_type": "code",
   "execution_count": 6,
   "id": "4560d217",
   "metadata": {},
   "outputs": [
    {
     "data": {
      "text/plain": [
       "['State',\n",
       " 'Date',\n",
       " 'Cases_Asian',\n",
       " 'Cases_AIAN',\n",
       " 'Cases_Black',\n",
       " 'Cases_White',\n",
       " 'Cases_Other',\n",
       " 'Cases_Ethnicity_NonHispanic',\n",
       " 'Cases_Ethnicity_Hispanic',\n",
       " 'Cases_Ethnicity_Unknown',\n",
       " 'Cases_Total',\n",
       " 'Deaths_AIAN',\n",
       " 'Deaths_Asian',\n",
       " 'Deaths_Black',\n",
       " 'Deaths_Ethnicity_Hispanic',\n",
       " 'Deaths_Ethnicity_NonHispanic',\n",
       " 'Deaths_Ethnicity_Unknown',\n",
       " 'Deaths_Other',\n",
       " 'Deaths_White',\n",
       " 'Deaths_Total']"
      ]
     },
     "execution_count": 6,
     "metadata": {},
     "output_type": "execute_result"
    }
   ],
   "source": [
    "#Preview NC data\n",
    "list(racial_data_df.columns)"
   ]
  },
  {
   "cell_type": "code",
   "execution_count": 7,
   "id": "b8680739",
   "metadata": {},
   "outputs": [
    {
     "name": "stdout",
     "output_type": "stream",
     "text": [
      "Total Deaths: 388209\n"
     ]
    }
   ],
   "source": [
    "# Overall mortality rate in North Carolina\n",
    "total_deaths = racial_data_df['Deaths_Total'].sum()\n",
    "\n",
    "print(f'Total Deaths: {total_deaths}')"
   ]
  },
  {
   "cell_type": "code",
   "execution_count": 8,
   "id": "e7a7dad8",
   "metadata": {},
   "outputs": [
    {
     "name": "stdout",
     "output_type": "stream",
     "text": [
      "        Date  Deaths_Total\n",
      "0   20210307       22286.0\n",
      "1   20210303       22013.0\n",
      "2   20210228       21731.0\n",
      "3   20210224       21463.0\n",
      "4   20210221       21178.0\n",
      "..       ...           ...\n",
      "90  20200426         578.0\n",
      "91  20200422         467.0\n",
      "92  20200419         335.0\n",
      "93  20200415         223.0\n",
      "94  20200412         157.0\n",
      "\n",
      "[95 rows x 2 columns]\n"
     ]
    }
   ],
   "source": [
    "# Selecting relevant death columns\n",
    "death_columns = ['Deaths_AIAN',\n",
    "                 'Deaths_Asian',\n",
    "                 'Deaths_Black',\n",
    "                 'Deaths_Ethnicity_Hispanic',\n",
    "                 'Deaths_Ethnicity_NonHispanic',\n",
    "                 'Deaths_Ethnicity_Unknown',\n",
    "                 'Deaths_Other',\n",
    "                 'Deaths_White']\n",
    "\n",
    "# Summing the death counts across columns\n",
    "racial_data_df['Deaths_Total'] = racial_data_df[death_columns].sum(axis=1)\n",
    "\n",
    "# Displaying the total deaths column\n",
    "print(racial_data_df[['Date', 'Deaths_Total']])"
   ]
  },
  {
   "cell_type": "code",
   "execution_count": 9,
   "id": "f720d45b",
   "metadata": {},
   "outputs": [
    {
     "data": {
      "application/vnd.plotly.v1+json": {
       "config": {
        "plotlyServerURL": "https://plot.ly"
       },
       "data": [
        {
         "alignmentgroup": "True",
         "hovertemplate": "Racial Group=%{x}<br>Total Deaths=%{y}<extra></extra>",
         "legendgroup": "Deaths_AIAN",
         "marker": {
          "color": "#636efa",
          "pattern": {
           "shape": ""
          }
         },
         "name": "Deaths_AIAN",
         "offsetgroup": "Deaths_AIAN",
         "orientation": "v",
         "showlegend": true,
         "textposition": "auto",
         "type": "bar",
         "x": [
          "Deaths_AIAN"
         ],
         "xaxis": "x",
         "y": [
          4533
         ],
         "yaxis": "y"
        },
        {
         "alignmentgroup": "True",
         "hovertemplate": "Racial Group=%{x}<br>Total Deaths=%{y}<extra></extra>",
         "legendgroup": "Deaths_Asian",
         "marker": {
          "color": "#EF553B",
          "pattern": {
           "shape": ""
          }
         },
         "name": "Deaths_Asian",
         "offsetgroup": "Deaths_Asian",
         "orientation": "v",
         "showlegend": true,
         "textposition": "auto",
         "type": "bar",
         "x": [
          "Deaths_Asian"
         ],
         "xaxis": "x",
         "y": [
          4495
         ],
         "yaxis": "y"
        },
        {
         "alignmentgroup": "True",
         "hovertemplate": "Racial Group=%{x}<br>Total Deaths=%{y}<extra></extra>",
         "legendgroup": "Deaths_Black",
         "marker": {
          "color": "#00cc96",
          "pattern": {
           "shape": ""
          }
         },
         "name": "Deaths_Black",
         "offsetgroup": "Deaths_Black",
         "orientation": "v",
         "showlegend": true,
         "textposition": "auto",
         "type": "bar",
         "x": [
          "Deaths_Black"
         ],
         "xaxis": "x",
         "y": [
          101706
         ],
         "yaxis": "y"
        },
        {
         "alignmentgroup": "True",
         "hovertemplate": "Racial Group=%{x}<br>Total Deaths=%{y}<extra></extra>",
         "legendgroup": "Deaths_Other",
         "marker": {
          "color": "#ab63fa",
          "pattern": {
           "shape": ""
          }
         },
         "name": "Deaths_Other",
         "offsetgroup": "Deaths_Other",
         "orientation": "v",
         "showlegend": true,
         "textposition": "auto",
         "type": "bar",
         "x": [
          "Deaths_Other"
         ],
         "xaxis": "x",
         "y": [
          23861
         ],
         "yaxis": "y"
        },
        {
         "alignmentgroup": "True",
         "hovertemplate": "Racial Group=%{x}<br>Total Deaths=%{y}<extra></extra>",
         "legendgroup": "Deaths_White",
         "marker": {
          "color": "#FFA15A",
          "pattern": {
           "shape": ""
          }
         },
         "name": "Deaths_White",
         "offsetgroup": "Deaths_White",
         "orientation": "v",
         "showlegend": true,
         "textposition": "auto",
         "type": "bar",
         "x": [
          "Deaths_White"
         ],
         "xaxis": "x",
         "y": [
          232906
         ],
         "yaxis": "y"
        }
       ],
       "layout": {
        "barmode": "relative",
        "hoverlabel": {
         "bgcolor": "white",
         "font": {
          "size": 12
         }
        },
        "hovermode": "x unified",
        "legend": {
         "title": {
          "text": "Racial Group"
         },
         "tracegroupgap": 0
        },
        "template": {
         "data": {
          "bar": [
           {
            "error_x": {
             "color": "#2a3f5f"
            },
            "error_y": {
             "color": "#2a3f5f"
            },
            "marker": {
             "line": {
              "color": "#E5ECF6",
              "width": 0.5
             },
             "pattern": {
              "fillmode": "overlay",
              "size": 10,
              "solidity": 0.2
             }
            },
            "type": "bar"
           }
          ],
          "barpolar": [
           {
            "marker": {
             "line": {
              "color": "#E5ECF6",
              "width": 0.5
             },
             "pattern": {
              "fillmode": "overlay",
              "size": 10,
              "solidity": 0.2
             }
            },
            "type": "barpolar"
           }
          ],
          "carpet": [
           {
            "aaxis": {
             "endlinecolor": "#2a3f5f",
             "gridcolor": "white",
             "linecolor": "white",
             "minorgridcolor": "white",
             "startlinecolor": "#2a3f5f"
            },
            "baxis": {
             "endlinecolor": "#2a3f5f",
             "gridcolor": "white",
             "linecolor": "white",
             "minorgridcolor": "white",
             "startlinecolor": "#2a3f5f"
            },
            "type": "carpet"
           }
          ],
          "choropleth": [
           {
            "colorbar": {
             "outlinewidth": 0,
             "ticks": ""
            },
            "type": "choropleth"
           }
          ],
          "contour": [
           {
            "colorbar": {
             "outlinewidth": 0,
             "ticks": ""
            },
            "colorscale": [
             [
              0,
              "#0d0887"
             ],
             [
              0.1111111111111111,
              "#46039f"
             ],
             [
              0.2222222222222222,
              "#7201a8"
             ],
             [
              0.3333333333333333,
              "#9c179e"
             ],
             [
              0.4444444444444444,
              "#bd3786"
             ],
             [
              0.5555555555555556,
              "#d8576b"
             ],
             [
              0.6666666666666666,
              "#ed7953"
             ],
             [
              0.7777777777777778,
              "#fb9f3a"
             ],
             [
              0.8888888888888888,
              "#fdca26"
             ],
             [
              1,
              "#f0f921"
             ]
            ],
            "type": "contour"
           }
          ],
          "contourcarpet": [
           {
            "colorbar": {
             "outlinewidth": 0,
             "ticks": ""
            },
            "type": "contourcarpet"
           }
          ],
          "heatmap": [
           {
            "colorbar": {
             "outlinewidth": 0,
             "ticks": ""
            },
            "colorscale": [
             [
              0,
              "#0d0887"
             ],
             [
              0.1111111111111111,
              "#46039f"
             ],
             [
              0.2222222222222222,
              "#7201a8"
             ],
             [
              0.3333333333333333,
              "#9c179e"
             ],
             [
              0.4444444444444444,
              "#bd3786"
             ],
             [
              0.5555555555555556,
              "#d8576b"
             ],
             [
              0.6666666666666666,
              "#ed7953"
             ],
             [
              0.7777777777777778,
              "#fb9f3a"
             ],
             [
              0.8888888888888888,
              "#fdca26"
             ],
             [
              1,
              "#f0f921"
             ]
            ],
            "type": "heatmap"
           }
          ],
          "heatmapgl": [
           {
            "colorbar": {
             "outlinewidth": 0,
             "ticks": ""
            },
            "colorscale": [
             [
              0,
              "#0d0887"
             ],
             [
              0.1111111111111111,
              "#46039f"
             ],
             [
              0.2222222222222222,
              "#7201a8"
             ],
             [
              0.3333333333333333,
              "#9c179e"
             ],
             [
              0.4444444444444444,
              "#bd3786"
             ],
             [
              0.5555555555555556,
              "#d8576b"
             ],
             [
              0.6666666666666666,
              "#ed7953"
             ],
             [
              0.7777777777777778,
              "#fb9f3a"
             ],
             [
              0.8888888888888888,
              "#fdca26"
             ],
             [
              1,
              "#f0f921"
             ]
            ],
            "type": "heatmapgl"
           }
          ],
          "histogram": [
           {
            "marker": {
             "pattern": {
              "fillmode": "overlay",
              "size": 10,
              "solidity": 0.2
             }
            },
            "type": "histogram"
           }
          ],
          "histogram2d": [
           {
            "colorbar": {
             "outlinewidth": 0,
             "ticks": ""
            },
            "colorscale": [
             [
              0,
              "#0d0887"
             ],
             [
              0.1111111111111111,
              "#46039f"
             ],
             [
              0.2222222222222222,
              "#7201a8"
             ],
             [
              0.3333333333333333,
              "#9c179e"
             ],
             [
              0.4444444444444444,
              "#bd3786"
             ],
             [
              0.5555555555555556,
              "#d8576b"
             ],
             [
              0.6666666666666666,
              "#ed7953"
             ],
             [
              0.7777777777777778,
              "#fb9f3a"
             ],
             [
              0.8888888888888888,
              "#fdca26"
             ],
             [
              1,
              "#f0f921"
             ]
            ],
            "type": "histogram2d"
           }
          ],
          "histogram2dcontour": [
           {
            "colorbar": {
             "outlinewidth": 0,
             "ticks": ""
            },
            "colorscale": [
             [
              0,
              "#0d0887"
             ],
             [
              0.1111111111111111,
              "#46039f"
             ],
             [
              0.2222222222222222,
              "#7201a8"
             ],
             [
              0.3333333333333333,
              "#9c179e"
             ],
             [
              0.4444444444444444,
              "#bd3786"
             ],
             [
              0.5555555555555556,
              "#d8576b"
             ],
             [
              0.6666666666666666,
              "#ed7953"
             ],
             [
              0.7777777777777778,
              "#fb9f3a"
             ],
             [
              0.8888888888888888,
              "#fdca26"
             ],
             [
              1,
              "#f0f921"
             ]
            ],
            "type": "histogram2dcontour"
           }
          ],
          "mesh3d": [
           {
            "colorbar": {
             "outlinewidth": 0,
             "ticks": ""
            },
            "type": "mesh3d"
           }
          ],
          "parcoords": [
           {
            "line": {
             "colorbar": {
              "outlinewidth": 0,
              "ticks": ""
             }
            },
            "type": "parcoords"
           }
          ],
          "pie": [
           {
            "automargin": true,
            "type": "pie"
           }
          ],
          "scatter": [
           {
            "fillpattern": {
             "fillmode": "overlay",
             "size": 10,
             "solidity": 0.2
            },
            "type": "scatter"
           }
          ],
          "scatter3d": [
           {
            "line": {
             "colorbar": {
              "outlinewidth": 0,
              "ticks": ""
             }
            },
            "marker": {
             "colorbar": {
              "outlinewidth": 0,
              "ticks": ""
             }
            },
            "type": "scatter3d"
           }
          ],
          "scattercarpet": [
           {
            "marker": {
             "colorbar": {
              "outlinewidth": 0,
              "ticks": ""
             }
            },
            "type": "scattercarpet"
           }
          ],
          "scattergeo": [
           {
            "marker": {
             "colorbar": {
              "outlinewidth": 0,
              "ticks": ""
             }
            },
            "type": "scattergeo"
           }
          ],
          "scattergl": [
           {
            "marker": {
             "colorbar": {
              "outlinewidth": 0,
              "ticks": ""
             }
            },
            "type": "scattergl"
           }
          ],
          "scattermapbox": [
           {
            "marker": {
             "colorbar": {
              "outlinewidth": 0,
              "ticks": ""
             }
            },
            "type": "scattermapbox"
           }
          ],
          "scatterpolar": [
           {
            "marker": {
             "colorbar": {
              "outlinewidth": 0,
              "ticks": ""
             }
            },
            "type": "scatterpolar"
           }
          ],
          "scatterpolargl": [
           {
            "marker": {
             "colorbar": {
              "outlinewidth": 0,
              "ticks": ""
             }
            },
            "type": "scatterpolargl"
           }
          ],
          "scatterternary": [
           {
            "marker": {
             "colorbar": {
              "outlinewidth": 0,
              "ticks": ""
             }
            },
            "type": "scatterternary"
           }
          ],
          "surface": [
           {
            "colorbar": {
             "outlinewidth": 0,
             "ticks": ""
            },
            "colorscale": [
             [
              0,
              "#0d0887"
             ],
             [
              0.1111111111111111,
              "#46039f"
             ],
             [
              0.2222222222222222,
              "#7201a8"
             ],
             [
              0.3333333333333333,
              "#9c179e"
             ],
             [
              0.4444444444444444,
              "#bd3786"
             ],
             [
              0.5555555555555556,
              "#d8576b"
             ],
             [
              0.6666666666666666,
              "#ed7953"
             ],
             [
              0.7777777777777778,
              "#fb9f3a"
             ],
             [
              0.8888888888888888,
              "#fdca26"
             ],
             [
              1,
              "#f0f921"
             ]
            ],
            "type": "surface"
           }
          ],
          "table": [
           {
            "cells": {
             "fill": {
              "color": "#EBF0F8"
             },
             "line": {
              "color": "white"
             }
            },
            "header": {
             "fill": {
              "color": "#C8D4E3"
             },
             "line": {
              "color": "white"
             }
            },
            "type": "table"
           }
          ]
         },
         "layout": {
          "annotationdefaults": {
           "arrowcolor": "#2a3f5f",
           "arrowhead": 0,
           "arrowwidth": 1
          },
          "autotypenumbers": "strict",
          "coloraxis": {
           "colorbar": {
            "outlinewidth": 0,
            "ticks": ""
           }
          },
          "colorscale": {
           "diverging": [
            [
             0,
             "#8e0152"
            ],
            [
             0.1,
             "#c51b7d"
            ],
            [
             0.2,
             "#de77ae"
            ],
            [
             0.3,
             "#f1b6da"
            ],
            [
             0.4,
             "#fde0ef"
            ],
            [
             0.5,
             "#f7f7f7"
            ],
            [
             0.6,
             "#e6f5d0"
            ],
            [
             0.7,
             "#b8e186"
            ],
            [
             0.8,
             "#7fbc41"
            ],
            [
             0.9,
             "#4d9221"
            ],
            [
             1,
             "#276419"
            ]
           ],
           "sequential": [
            [
             0,
             "#0d0887"
            ],
            [
             0.1111111111111111,
             "#46039f"
            ],
            [
             0.2222222222222222,
             "#7201a8"
            ],
            [
             0.3333333333333333,
             "#9c179e"
            ],
            [
             0.4444444444444444,
             "#bd3786"
            ],
            [
             0.5555555555555556,
             "#d8576b"
            ],
            [
             0.6666666666666666,
             "#ed7953"
            ],
            [
             0.7777777777777778,
             "#fb9f3a"
            ],
            [
             0.8888888888888888,
             "#fdca26"
            ],
            [
             1,
             "#f0f921"
            ]
           ],
           "sequentialminus": [
            [
             0,
             "#0d0887"
            ],
            [
             0.1111111111111111,
             "#46039f"
            ],
            [
             0.2222222222222222,
             "#7201a8"
            ],
            [
             0.3333333333333333,
             "#9c179e"
            ],
            [
             0.4444444444444444,
             "#bd3786"
            ],
            [
             0.5555555555555556,
             "#d8576b"
            ],
            [
             0.6666666666666666,
             "#ed7953"
            ],
            [
             0.7777777777777778,
             "#fb9f3a"
            ],
            [
             0.8888888888888888,
             "#fdca26"
            ],
            [
             1,
             "#f0f921"
            ]
           ]
          },
          "colorway": [
           "#636efa",
           "#EF553B",
           "#00cc96",
           "#ab63fa",
           "#FFA15A",
           "#19d3f3",
           "#FF6692",
           "#B6E880",
           "#FF97FF",
           "#FECB52"
          ],
          "font": {
           "color": "#2a3f5f"
          },
          "geo": {
           "bgcolor": "white",
           "lakecolor": "white",
           "landcolor": "#E5ECF6",
           "showlakes": true,
           "showland": true,
           "subunitcolor": "white"
          },
          "hoverlabel": {
           "align": "left"
          },
          "hovermode": "closest",
          "mapbox": {
           "style": "light"
          },
          "paper_bgcolor": "white",
          "plot_bgcolor": "#E5ECF6",
          "polar": {
           "angularaxis": {
            "gridcolor": "white",
            "linecolor": "white",
            "ticks": ""
           },
           "bgcolor": "#E5ECF6",
           "radialaxis": {
            "gridcolor": "white",
            "linecolor": "white",
            "ticks": ""
           }
          },
          "scene": {
           "xaxis": {
            "backgroundcolor": "#E5ECF6",
            "gridcolor": "white",
            "gridwidth": 2,
            "linecolor": "white",
            "showbackground": true,
            "ticks": "",
            "zerolinecolor": "white"
           },
           "yaxis": {
            "backgroundcolor": "#E5ECF6",
            "gridcolor": "white",
            "gridwidth": 2,
            "linecolor": "white",
            "showbackground": true,
            "ticks": "",
            "zerolinecolor": "white"
           },
           "zaxis": {
            "backgroundcolor": "#E5ECF6",
            "gridcolor": "white",
            "gridwidth": 2,
            "linecolor": "white",
            "showbackground": true,
            "ticks": "",
            "zerolinecolor": "white"
           }
          },
          "shapedefaults": {
           "line": {
            "color": "#2a3f5f"
           }
          },
          "ternary": {
           "aaxis": {
            "gridcolor": "white",
            "linecolor": "white",
            "ticks": ""
           },
           "baxis": {
            "gridcolor": "white",
            "linecolor": "white",
            "ticks": ""
           },
           "bgcolor": "#E5ECF6",
           "caxis": {
            "gridcolor": "white",
            "linecolor": "white",
            "ticks": ""
           }
          },
          "title": {
           "x": 0.05
          },
          "xaxis": {
           "automargin": true,
           "gridcolor": "white",
           "linecolor": "white",
           "ticks": "",
           "title": {
            "standoff": 15
           },
           "zerolinecolor": "white",
           "zerolinewidth": 2
          },
          "yaxis": {
           "automargin": true,
           "gridcolor": "white",
           "linecolor": "white",
           "ticks": "",
           "title": {
            "standoff": 15
           },
           "zerolinecolor": "white",
           "zerolinewidth": 2
          }
         }
        },
        "title": {
         "text": "Total Deaths by Racial Group in NC"
        },
        "xaxis": {
         "anchor": "y",
         "categoryarray": [
          "Deaths_AIAN",
          "Deaths_Asian",
          "Deaths_Black",
          "Deaths_Other",
          "Deaths_White"
         ],
         "categoryorder": "array",
         "domain": [
          0,
          1
         ],
         "title": {
          "text": "Racial Group"
         }
        },
        "yaxis": {
         "anchor": "x",
         "domain": [
          0,
          1
         ],
         "title": {
          "text": "Total Deaths"
         }
        }
       }
      }
     },
     "metadata": {},
     "output_type": "display_data"
    },
    {
     "data": {
      "application/vnd.plotly.v1+json": {
       "config": {
        "plotlyServerURL": "https://plot.ly"
       },
       "data": [
        {
         "alignmentgroup": "True",
         "hovertemplate": "Ethnicity=%{x}<br>Total Deaths=%{y}<extra></extra>",
         "legendgroup": "Deaths_Ethnicity_Hispanic",
         "marker": {
          "color": "#636efa",
          "pattern": {
           "shape": ""
          }
         },
         "name": "Deaths_Ethnicity_Hispanic",
         "offsetgroup": "Deaths_Ethnicity_Hispanic",
         "orientation": "v",
         "showlegend": true,
         "textposition": "auto",
         "type": "bar",
         "x": [
          "Deaths_Ethnicity_Hispanic"
         ],
         "xaxis": "x",
         "y": [
          29272
         ],
         "yaxis": "y"
        },
        {
         "alignmentgroup": "True",
         "hovertemplate": "Ethnicity=%{x}<br>Total Deaths=%{y}<extra></extra>",
         "legendgroup": "Deaths_Ethnicity_NonHispanic",
         "marker": {
          "color": "#EF553B",
          "pattern": {
           "shape": ""
          }
         },
         "name": "Deaths_Ethnicity_NonHispanic",
         "offsetgroup": "Deaths_Ethnicity_NonHispanic",
         "orientation": "v",
         "showlegend": true,
         "textposition": "auto",
         "type": "bar",
         "x": [
          "Deaths_Ethnicity_NonHispanic"
         ],
         "xaxis": "x",
         "y": [
          307673
         ],
         "yaxis": "y"
        },
        {
         "alignmentgroup": "True",
         "hovertemplate": "Ethnicity=%{x}<br>Total Deaths=%{y}<extra></extra>",
         "legendgroup": "Deaths_Ethnicity_Unknown",
         "marker": {
          "color": "#00cc96",
          "pattern": {
           "shape": ""
          }
         },
         "name": "Deaths_Ethnicity_Unknown",
         "offsetgroup": "Deaths_Ethnicity_Unknown",
         "orientation": "v",
         "showlegend": true,
         "textposition": "auto",
         "type": "bar",
         "x": [
          "Deaths_Ethnicity_Unknown"
         ],
         "xaxis": "x",
         "y": [
          51263
         ],
         "yaxis": "y"
        }
       ],
       "layout": {
        "barmode": "relative",
        "hoverlabel": {
         "bgcolor": "white",
         "font": {
          "size": 12
         }
        },
        "hovermode": "x unified",
        "legend": {
         "title": {
          "text": "Ethnicity"
         },
         "tracegroupgap": 0
        },
        "template": {
         "data": {
          "bar": [
           {
            "error_x": {
             "color": "#2a3f5f"
            },
            "error_y": {
             "color": "#2a3f5f"
            },
            "marker": {
             "line": {
              "color": "#E5ECF6",
              "width": 0.5
             },
             "pattern": {
              "fillmode": "overlay",
              "size": 10,
              "solidity": 0.2
             }
            },
            "type": "bar"
           }
          ],
          "barpolar": [
           {
            "marker": {
             "line": {
              "color": "#E5ECF6",
              "width": 0.5
             },
             "pattern": {
              "fillmode": "overlay",
              "size": 10,
              "solidity": 0.2
             }
            },
            "type": "barpolar"
           }
          ],
          "carpet": [
           {
            "aaxis": {
             "endlinecolor": "#2a3f5f",
             "gridcolor": "white",
             "linecolor": "white",
             "minorgridcolor": "white",
             "startlinecolor": "#2a3f5f"
            },
            "baxis": {
             "endlinecolor": "#2a3f5f",
             "gridcolor": "white",
             "linecolor": "white",
             "minorgridcolor": "white",
             "startlinecolor": "#2a3f5f"
            },
            "type": "carpet"
           }
          ],
          "choropleth": [
           {
            "colorbar": {
             "outlinewidth": 0,
             "ticks": ""
            },
            "type": "choropleth"
           }
          ],
          "contour": [
           {
            "colorbar": {
             "outlinewidth": 0,
             "ticks": ""
            },
            "colorscale": [
             [
              0,
              "#0d0887"
             ],
             [
              0.1111111111111111,
              "#46039f"
             ],
             [
              0.2222222222222222,
              "#7201a8"
             ],
             [
              0.3333333333333333,
              "#9c179e"
             ],
             [
              0.4444444444444444,
              "#bd3786"
             ],
             [
              0.5555555555555556,
              "#d8576b"
             ],
             [
              0.6666666666666666,
              "#ed7953"
             ],
             [
              0.7777777777777778,
              "#fb9f3a"
             ],
             [
              0.8888888888888888,
              "#fdca26"
             ],
             [
              1,
              "#f0f921"
             ]
            ],
            "type": "contour"
           }
          ],
          "contourcarpet": [
           {
            "colorbar": {
             "outlinewidth": 0,
             "ticks": ""
            },
            "type": "contourcarpet"
           }
          ],
          "heatmap": [
           {
            "colorbar": {
             "outlinewidth": 0,
             "ticks": ""
            },
            "colorscale": [
             [
              0,
              "#0d0887"
             ],
             [
              0.1111111111111111,
              "#46039f"
             ],
             [
              0.2222222222222222,
              "#7201a8"
             ],
             [
              0.3333333333333333,
              "#9c179e"
             ],
             [
              0.4444444444444444,
              "#bd3786"
             ],
             [
              0.5555555555555556,
              "#d8576b"
             ],
             [
              0.6666666666666666,
              "#ed7953"
             ],
             [
              0.7777777777777778,
              "#fb9f3a"
             ],
             [
              0.8888888888888888,
              "#fdca26"
             ],
             [
              1,
              "#f0f921"
             ]
            ],
            "type": "heatmap"
           }
          ],
          "heatmapgl": [
           {
            "colorbar": {
             "outlinewidth": 0,
             "ticks": ""
            },
            "colorscale": [
             [
              0,
              "#0d0887"
             ],
             [
              0.1111111111111111,
              "#46039f"
             ],
             [
              0.2222222222222222,
              "#7201a8"
             ],
             [
              0.3333333333333333,
              "#9c179e"
             ],
             [
              0.4444444444444444,
              "#bd3786"
             ],
             [
              0.5555555555555556,
              "#d8576b"
             ],
             [
              0.6666666666666666,
              "#ed7953"
             ],
             [
              0.7777777777777778,
              "#fb9f3a"
             ],
             [
              0.8888888888888888,
              "#fdca26"
             ],
             [
              1,
              "#f0f921"
             ]
            ],
            "type": "heatmapgl"
           }
          ],
          "histogram": [
           {
            "marker": {
             "pattern": {
              "fillmode": "overlay",
              "size": 10,
              "solidity": 0.2
             }
            },
            "type": "histogram"
           }
          ],
          "histogram2d": [
           {
            "colorbar": {
             "outlinewidth": 0,
             "ticks": ""
            },
            "colorscale": [
             [
              0,
              "#0d0887"
             ],
             [
              0.1111111111111111,
              "#46039f"
             ],
             [
              0.2222222222222222,
              "#7201a8"
             ],
             [
              0.3333333333333333,
              "#9c179e"
             ],
             [
              0.4444444444444444,
              "#bd3786"
             ],
             [
              0.5555555555555556,
              "#d8576b"
             ],
             [
              0.6666666666666666,
              "#ed7953"
             ],
             [
              0.7777777777777778,
              "#fb9f3a"
             ],
             [
              0.8888888888888888,
              "#fdca26"
             ],
             [
              1,
              "#f0f921"
             ]
            ],
            "type": "histogram2d"
           }
          ],
          "histogram2dcontour": [
           {
            "colorbar": {
             "outlinewidth": 0,
             "ticks": ""
            },
            "colorscale": [
             [
              0,
              "#0d0887"
             ],
             [
              0.1111111111111111,
              "#46039f"
             ],
             [
              0.2222222222222222,
              "#7201a8"
             ],
             [
              0.3333333333333333,
              "#9c179e"
             ],
             [
              0.4444444444444444,
              "#bd3786"
             ],
             [
              0.5555555555555556,
              "#d8576b"
             ],
             [
              0.6666666666666666,
              "#ed7953"
             ],
             [
              0.7777777777777778,
              "#fb9f3a"
             ],
             [
              0.8888888888888888,
              "#fdca26"
             ],
             [
              1,
              "#f0f921"
             ]
            ],
            "type": "histogram2dcontour"
           }
          ],
          "mesh3d": [
           {
            "colorbar": {
             "outlinewidth": 0,
             "ticks": ""
            },
            "type": "mesh3d"
           }
          ],
          "parcoords": [
           {
            "line": {
             "colorbar": {
              "outlinewidth": 0,
              "ticks": ""
             }
            },
            "type": "parcoords"
           }
          ],
          "pie": [
           {
            "automargin": true,
            "type": "pie"
           }
          ],
          "scatter": [
           {
            "fillpattern": {
             "fillmode": "overlay",
             "size": 10,
             "solidity": 0.2
            },
            "type": "scatter"
           }
          ],
          "scatter3d": [
           {
            "line": {
             "colorbar": {
              "outlinewidth": 0,
              "ticks": ""
             }
            },
            "marker": {
             "colorbar": {
              "outlinewidth": 0,
              "ticks": ""
             }
            },
            "type": "scatter3d"
           }
          ],
          "scattercarpet": [
           {
            "marker": {
             "colorbar": {
              "outlinewidth": 0,
              "ticks": ""
             }
            },
            "type": "scattercarpet"
           }
          ],
          "scattergeo": [
           {
            "marker": {
             "colorbar": {
              "outlinewidth": 0,
              "ticks": ""
             }
            },
            "type": "scattergeo"
           }
          ],
          "scattergl": [
           {
            "marker": {
             "colorbar": {
              "outlinewidth": 0,
              "ticks": ""
             }
            },
            "type": "scattergl"
           }
          ],
          "scattermapbox": [
           {
            "marker": {
             "colorbar": {
              "outlinewidth": 0,
              "ticks": ""
             }
            },
            "type": "scattermapbox"
           }
          ],
          "scatterpolar": [
           {
            "marker": {
             "colorbar": {
              "outlinewidth": 0,
              "ticks": ""
             }
            },
            "type": "scatterpolar"
           }
          ],
          "scatterpolargl": [
           {
            "marker": {
             "colorbar": {
              "outlinewidth": 0,
              "ticks": ""
             }
            },
            "type": "scatterpolargl"
           }
          ],
          "scatterternary": [
           {
            "marker": {
             "colorbar": {
              "outlinewidth": 0,
              "ticks": ""
             }
            },
            "type": "scatterternary"
           }
          ],
          "surface": [
           {
            "colorbar": {
             "outlinewidth": 0,
             "ticks": ""
            },
            "colorscale": [
             [
              0,
              "#0d0887"
             ],
             [
              0.1111111111111111,
              "#46039f"
             ],
             [
              0.2222222222222222,
              "#7201a8"
             ],
             [
              0.3333333333333333,
              "#9c179e"
             ],
             [
              0.4444444444444444,
              "#bd3786"
             ],
             [
              0.5555555555555556,
              "#d8576b"
             ],
             [
              0.6666666666666666,
              "#ed7953"
             ],
             [
              0.7777777777777778,
              "#fb9f3a"
             ],
             [
              0.8888888888888888,
              "#fdca26"
             ],
             [
              1,
              "#f0f921"
             ]
            ],
            "type": "surface"
           }
          ],
          "table": [
           {
            "cells": {
             "fill": {
              "color": "#EBF0F8"
             },
             "line": {
              "color": "white"
             }
            },
            "header": {
             "fill": {
              "color": "#C8D4E3"
             },
             "line": {
              "color": "white"
             }
            },
            "type": "table"
           }
          ]
         },
         "layout": {
          "annotationdefaults": {
           "arrowcolor": "#2a3f5f",
           "arrowhead": 0,
           "arrowwidth": 1
          },
          "autotypenumbers": "strict",
          "coloraxis": {
           "colorbar": {
            "outlinewidth": 0,
            "ticks": ""
           }
          },
          "colorscale": {
           "diverging": [
            [
             0,
             "#8e0152"
            ],
            [
             0.1,
             "#c51b7d"
            ],
            [
             0.2,
             "#de77ae"
            ],
            [
             0.3,
             "#f1b6da"
            ],
            [
             0.4,
             "#fde0ef"
            ],
            [
             0.5,
             "#f7f7f7"
            ],
            [
             0.6,
             "#e6f5d0"
            ],
            [
             0.7,
             "#b8e186"
            ],
            [
             0.8,
             "#7fbc41"
            ],
            [
             0.9,
             "#4d9221"
            ],
            [
             1,
             "#276419"
            ]
           ],
           "sequential": [
            [
             0,
             "#0d0887"
            ],
            [
             0.1111111111111111,
             "#46039f"
            ],
            [
             0.2222222222222222,
             "#7201a8"
            ],
            [
             0.3333333333333333,
             "#9c179e"
            ],
            [
             0.4444444444444444,
             "#bd3786"
            ],
            [
             0.5555555555555556,
             "#d8576b"
            ],
            [
             0.6666666666666666,
             "#ed7953"
            ],
            [
             0.7777777777777778,
             "#fb9f3a"
            ],
            [
             0.8888888888888888,
             "#fdca26"
            ],
            [
             1,
             "#f0f921"
            ]
           ],
           "sequentialminus": [
            [
             0,
             "#0d0887"
            ],
            [
             0.1111111111111111,
             "#46039f"
            ],
            [
             0.2222222222222222,
             "#7201a8"
            ],
            [
             0.3333333333333333,
             "#9c179e"
            ],
            [
             0.4444444444444444,
             "#bd3786"
            ],
            [
             0.5555555555555556,
             "#d8576b"
            ],
            [
             0.6666666666666666,
             "#ed7953"
            ],
            [
             0.7777777777777778,
             "#fb9f3a"
            ],
            [
             0.8888888888888888,
             "#fdca26"
            ],
            [
             1,
             "#f0f921"
            ]
           ]
          },
          "colorway": [
           "#636efa",
           "#EF553B",
           "#00cc96",
           "#ab63fa",
           "#FFA15A",
           "#19d3f3",
           "#FF6692",
           "#B6E880",
           "#FF97FF",
           "#FECB52"
          ],
          "font": {
           "color": "#2a3f5f"
          },
          "geo": {
           "bgcolor": "white",
           "lakecolor": "white",
           "landcolor": "#E5ECF6",
           "showlakes": true,
           "showland": true,
           "subunitcolor": "white"
          },
          "hoverlabel": {
           "align": "left"
          },
          "hovermode": "closest",
          "mapbox": {
           "style": "light"
          },
          "paper_bgcolor": "white",
          "plot_bgcolor": "#E5ECF6",
          "polar": {
           "angularaxis": {
            "gridcolor": "white",
            "linecolor": "white",
            "ticks": ""
           },
           "bgcolor": "#E5ECF6",
           "radialaxis": {
            "gridcolor": "white",
            "linecolor": "white",
            "ticks": ""
           }
          },
          "scene": {
           "xaxis": {
            "backgroundcolor": "#E5ECF6",
            "gridcolor": "white",
            "gridwidth": 2,
            "linecolor": "white",
            "showbackground": true,
            "ticks": "",
            "zerolinecolor": "white"
           },
           "yaxis": {
            "backgroundcolor": "#E5ECF6",
            "gridcolor": "white",
            "gridwidth": 2,
            "linecolor": "white",
            "showbackground": true,
            "ticks": "",
            "zerolinecolor": "white"
           },
           "zaxis": {
            "backgroundcolor": "#E5ECF6",
            "gridcolor": "white",
            "gridwidth": 2,
            "linecolor": "white",
            "showbackground": true,
            "ticks": "",
            "zerolinecolor": "white"
           }
          },
          "shapedefaults": {
           "line": {
            "color": "#2a3f5f"
           }
          },
          "ternary": {
           "aaxis": {
            "gridcolor": "white",
            "linecolor": "white",
            "ticks": ""
           },
           "baxis": {
            "gridcolor": "white",
            "linecolor": "white",
            "ticks": ""
           },
           "bgcolor": "#E5ECF6",
           "caxis": {
            "gridcolor": "white",
            "linecolor": "white",
            "ticks": ""
           }
          },
          "title": {
           "x": 0.05
          },
          "xaxis": {
           "automargin": true,
           "gridcolor": "white",
           "linecolor": "white",
           "ticks": "",
           "title": {
            "standoff": 15
           },
           "zerolinecolor": "white",
           "zerolinewidth": 2
          },
          "yaxis": {
           "automargin": true,
           "gridcolor": "white",
           "linecolor": "white",
           "ticks": "",
           "title": {
            "standoff": 15
           },
           "zerolinecolor": "white",
           "zerolinewidth": 2
          }
         }
        },
        "title": {
         "text": "Total Deaths by Ethnicity in NC"
        },
        "xaxis": {
         "anchor": "y",
         "categoryarray": [
          "Deaths_Ethnicity_Hispanic",
          "Deaths_Ethnicity_NonHispanic",
          "Deaths_Ethnicity_Unknown"
         ],
         "categoryorder": "array",
         "domain": [
          0,
          1
         ],
         "title": {
          "text": "Ethnicity"
         }
        },
        "yaxis": {
         "anchor": "x",
         "domain": [
          0,
          1
         ],
         "title": {
          "text": "Total Deaths"
         }
        }
       }
      }
     },
     "metadata": {},
     "output_type": "display_data"
    }
   ],
   "source": [
    "# Extracting racial groups\n",
    "racial_groups = ['AIAN', 'Asian', 'Black', 'Other', 'White']\n",
    "\n",
    "# Extracting total Deaths for each racial group\n",
    "total_deaths_race = racial_data_df[['Deaths_AIAN', 'Deaths_Asian', 'Deaths_Black', 'Deaths_Other', 'Deaths_White']].sum()\n",
    "\n",
    "# Plot for total deaths by race\n",
    "fig_race = px.bar(total_deaths_race, x=total_deaths_race.index, y=total_deaths_race.values,\n",
    "                  color=total_deaths_race.index, labels={'y': 'Total Deaths', 'index': 'Racial Group'},\n",
    "                  title='Total Deaths by Racial Group in NC')\n",
    "\n",
    "# Update layout for better hover formatting\n",
    "fig_race.update_layout(hovermode=\"x unified\", hoverlabel=dict(bgcolor=\"white\", font_size=12))\n",
    "\n",
    "# Save as HTML\n",
    "fig_race.write_html('total_deaths_race_plot.html')\n",
    "\n",
    "# Show the plot\n",
    "fig_race.show()\n",
    "\n",
    "# Extracting ethnic groups\n",
    "ethnic_groups = ['Hispanic', 'NonHispanic', 'Unknown']\n",
    "\n",
    "# Extracting total Deaths for each ethnicity\n",
    "total_deaths_ethnicity = racial_data_df[['Deaths_Ethnicity_Hispanic', 'Deaths_Ethnicity_NonHispanic', 'Deaths_Ethnicity_Unknown']].sum()\n",
    "\n",
    "# Plot for total deaths by ethnicity\n",
    "fig_ethnicity = px.bar(total_deaths_ethnicity, x=total_deaths_ethnicity.index, y=total_deaths_ethnicity.values,\n",
    "                       color=total_deaths_ethnicity.index, labels={'y': 'Total Deaths', 'index': 'Ethnicity'},\n",
    "                       title='Total Deaths by Ethnicity in NC')\n",
    "\n",
    "# Update layout for better hover formatting\n",
    "fig_ethnicity.update_layout(hovermode=\"x unified\", hoverlabel=dict(bgcolor=\"white\", font_size=12))\n",
    "\n",
    "# Save as HTML\n",
    "fig_ethnicity.write_html('total_deaths_ethnicity_plot.html')\n",
    "\n",
    "# Show the plot\n",
    "fig_ethnicity.show()"
   ]
  },
  {
   "cell_type": "markdown",
   "id": "edee5916",
   "metadata": {},
   "source": [
    "### Analysis on Total Deaths by Racial Group and Ethnicity Group in NC\n",
    "The data analysis presents a snapshot of the total deaths attributed to COVID-19 among different racial groups in North Carolina. The bar chart visually illustrates the disparities in mortality rates, showcasing varying impact across racial categories. \"Deaths_Ethnicity_NonHispanic\" and \"Deaths_White\" exhibit higher counts, suggesting a disproportionate burden on these communities. Meanwhile, categories such as \"Deaths_AIAN\" and \"Deaths_Asian\" indicate comparatively lower mortality rates. The visualization emphasizes the critical need for targeting public health strategies to address these disparities and underlines the importance of understanding the specific impact on diverse racial groups for effective pandemic management."
   ]
  },
  {
   "cell_type": "code",
   "execution_count": 10,
   "id": "3da777e2",
   "metadata": {},
   "outputs": [
    {
     "name": "stdout",
     "output_type": "stream",
     "text": [
      "        Date  Death_Rate_AIAN  Death_Rate_Asian  Death_Rate_Black  \\\n",
      "0   20210307         1.125100          0.881057          1.810971   \n",
      "1   20210303         1.104030          0.889746          1.808565   \n",
      "2   20210228         1.075269          0.882177          1.806623   \n",
      "3   20210224         1.078808          0.885157          1.805931   \n",
      "4   20210221         1.052632          0.878265          1.806384   \n",
      "..       ...              ...               ...               ...   \n",
      "90  20200426         2.439024          1.754386          3.844660   \n",
      "91  20200422         0.000000          1.020408          4.007456   \n",
      "92  20200419         0.000000          1.075269          3.227486   \n",
      "93  20200415              NaN          1.408451          2.654280   \n",
      "94  20200412              NaN          1.851852          2.329317   \n",
      "\n",
      "    Death_Rate_Ethnicity_Hispanic  Death_Rate_Ethnicity_NonHispanic  \\\n",
      "0                        0.675278                          2.017966   \n",
      "1                        0.674532                          2.013819   \n",
      "2                        0.670952                          2.012332   \n",
      "3                        0.669946                          2.014837   \n",
      "4                        0.662704                          2.010368   \n",
      "..                            ...                               ...   \n",
      "90                       0.725514                          5.030303   \n",
      "91                       0.922509                          4.684859   \n",
      "92                       0.936768                          3.756757   \n",
      "93                       1.038062                          3.026272   \n",
      "94                       0.836820                          2.734218   \n",
      "\n",
      "    Death_Rate_Ethnicity_Unknown  Death_Rate_Other  Death_Rate_White  \n",
      "0                       0.572518          0.727125          1.618730  \n",
      "1                       0.567755          0.724697          1.611770  \n",
      "2                       0.557465          0.718279          1.607439  \n",
      "3                       0.553221          0.713779          1.605929  \n",
      "4                       0.548248          0.708041          1.597493  \n",
      "..                           ...               ...               ...  \n",
      "90                      1.441205          1.912568          4.878049  \n",
      "91                      1.694915          1.915709          4.589372  \n",
      "92                      1.225697          1.941748          3.603604  \n",
      "93                      1.258894          2.027027          2.847956  \n",
      "94                      0.613155               NaN          2.601810  \n",
      "\n",
      "[95 rows x 9 columns]\n"
     ]
    }
   ],
   "source": [
    "# Calculate death rates and cases for each racial group \n",
    "racial_data_df['Death_Rate_AIAN'] = (racial_data_df['Deaths_AIAN'] / racial_data_df['Cases_AIAN']) * 100\n",
    "racial_data_df['Death_Rate_Asian'] = (racial_data_df['Deaths_Asian'] / racial_data_df['Cases_Asian']) * 100\n",
    "racial_data_df['Death_Rate_Black'] = (racial_data_df['Deaths_Black'] / racial_data_df['Cases_Black']) * 100\n",
    "racial_data_df['Death_Rate_Ethnicity_Hispanic'] = (racial_data_df['Deaths_Ethnicity_Hispanic'] / racial_data_df['Cases_Ethnicity_Hispanic']) * 100\n",
    "racial_data_df['Death_Rate_Ethnicity_NonHispanic'] = (racial_data_df['Deaths_Ethnicity_NonHispanic'] / racial_data_df['Cases_Ethnicity_NonHispanic']) * 100\n",
    "racial_data_df['Death_Rate_Ethnicity_Unknown'] = (racial_data_df['Deaths_Ethnicity_Unknown'] / racial_data_df['Cases_Ethnicity_Unknown']) * 100\n",
    "racial_data_df['Death_Rate_Other'] = (racial_data_df['Deaths_Other'] / racial_data_df['Cases_Other']) * 100\n",
    "racial_data_df['Death_Rate_White'] = (racial_data_df['Deaths_White'] / racial_data_df['Cases_White']) * 100\n",
    "\n",
    "# Add other racial groups as needed\n",
    "\n",
    "# Calculate overall death rate\n",
    "racial_data_df['Overall_Death_Rate'] = (racial_data_df['Deaths_Total'] / racial_data_df['Cases_Total']) * 100\n",
    "\n",
    "# Print or use the DataFrame as needed\n",
    "print(racial_data_df[['Date', 'Death_Rate_AIAN', \n",
    "                      'Death_Rate_Asian', \n",
    "                      'Death_Rate_Black',\n",
    "                      'Death_Rate_Ethnicity_Hispanic',\n",
    "                      'Death_Rate_Ethnicity_NonHispanic', \n",
    "                      'Death_Rate_Ethnicity_Unknown', \n",
    "                      'Death_Rate_Other',\n",
    "                      'Death_Rate_White'\n",
    "                     ]])\n",
    "\n"
   ]
  },
  {
   "cell_type": "code",
   "execution_count": 11,
   "id": "462553c8",
   "metadata": {
    "scrolled": false
   },
   "outputs": [
    {
     "data": {
      "application/vnd.plotly.v1+json": {
       "config": {
        "plotlyServerURL": "https://plot.ly"
       },
       "data": [
        {
         "alignmentgroup": "True",
         "hovertemplate": "Category=Total Cases<br>Ethnicity Group=%{x}<br>Count=%{y}<extra></extra>",
         "legendgroup": "Total Cases",
         "marker": {
          "color": "#636efa",
          "pattern": {
           "shape": ""
          }
         },
         "name": "Total Cases",
         "offsetgroup": "Total Cases",
         "orientation": "v",
         "showlegend": true,
         "textposition": "auto",
         "type": "bar",
         "x": [
          "Ethnicity_Hispanic",
          "Ethnicity_NonHispanic",
          "Ethnicity_Unknown"
         ],
         "xaxis": "x",
         "y": [
          4764432,
          13088572,
          9722281
         ],
         "yaxis": "y"
        },
        {
         "alignmentgroup": "True",
         "hovertemplate": "Category=Total Deaths<br>Ethnicity Group=%{x}<br>Count=%{y}<extra></extra>",
         "legendgroup": "Total Deaths",
         "marker": {
          "color": "#EF553B",
          "pattern": {
           "shape": ""
          }
         },
         "name": "Total Deaths",
         "offsetgroup": "Total Deaths",
         "orientation": "v",
         "showlegend": true,
         "textposition": "auto",
         "type": "bar",
         "x": [
          "Ethnicity_Hispanic",
          "Ethnicity_NonHispanic",
          "Ethnicity_Unknown"
         ],
         "xaxis": "x",
         "y": [
          29272,
          307673,
          51263
         ],
         "yaxis": "y"
        }
       ],
       "layout": {
        "barmode": "group",
        "hoverlabel": {
         "bgcolor": "white",
         "font": {
          "size": 12
         }
        },
        "hovermode": "x unified",
        "legend": {
         "title": {
          "text": "Category"
         },
         "tracegroupgap": 0
        },
        "template": {
         "data": {
          "bar": [
           {
            "error_x": {
             "color": "#2a3f5f"
            },
            "error_y": {
             "color": "#2a3f5f"
            },
            "marker": {
             "line": {
              "color": "#E5ECF6",
              "width": 0.5
             },
             "pattern": {
              "fillmode": "overlay",
              "size": 10,
              "solidity": 0.2
             }
            },
            "type": "bar"
           }
          ],
          "barpolar": [
           {
            "marker": {
             "line": {
              "color": "#E5ECF6",
              "width": 0.5
             },
             "pattern": {
              "fillmode": "overlay",
              "size": 10,
              "solidity": 0.2
             }
            },
            "type": "barpolar"
           }
          ],
          "carpet": [
           {
            "aaxis": {
             "endlinecolor": "#2a3f5f",
             "gridcolor": "white",
             "linecolor": "white",
             "minorgridcolor": "white",
             "startlinecolor": "#2a3f5f"
            },
            "baxis": {
             "endlinecolor": "#2a3f5f",
             "gridcolor": "white",
             "linecolor": "white",
             "minorgridcolor": "white",
             "startlinecolor": "#2a3f5f"
            },
            "type": "carpet"
           }
          ],
          "choropleth": [
           {
            "colorbar": {
             "outlinewidth": 0,
             "ticks": ""
            },
            "type": "choropleth"
           }
          ],
          "contour": [
           {
            "colorbar": {
             "outlinewidth": 0,
             "ticks": ""
            },
            "colorscale": [
             [
              0,
              "#0d0887"
             ],
             [
              0.1111111111111111,
              "#46039f"
             ],
             [
              0.2222222222222222,
              "#7201a8"
             ],
             [
              0.3333333333333333,
              "#9c179e"
             ],
             [
              0.4444444444444444,
              "#bd3786"
             ],
             [
              0.5555555555555556,
              "#d8576b"
             ],
             [
              0.6666666666666666,
              "#ed7953"
             ],
             [
              0.7777777777777778,
              "#fb9f3a"
             ],
             [
              0.8888888888888888,
              "#fdca26"
             ],
             [
              1,
              "#f0f921"
             ]
            ],
            "type": "contour"
           }
          ],
          "contourcarpet": [
           {
            "colorbar": {
             "outlinewidth": 0,
             "ticks": ""
            },
            "type": "contourcarpet"
           }
          ],
          "heatmap": [
           {
            "colorbar": {
             "outlinewidth": 0,
             "ticks": ""
            },
            "colorscale": [
             [
              0,
              "#0d0887"
             ],
             [
              0.1111111111111111,
              "#46039f"
             ],
             [
              0.2222222222222222,
              "#7201a8"
             ],
             [
              0.3333333333333333,
              "#9c179e"
             ],
             [
              0.4444444444444444,
              "#bd3786"
             ],
             [
              0.5555555555555556,
              "#d8576b"
             ],
             [
              0.6666666666666666,
              "#ed7953"
             ],
             [
              0.7777777777777778,
              "#fb9f3a"
             ],
             [
              0.8888888888888888,
              "#fdca26"
             ],
             [
              1,
              "#f0f921"
             ]
            ],
            "type": "heatmap"
           }
          ],
          "heatmapgl": [
           {
            "colorbar": {
             "outlinewidth": 0,
             "ticks": ""
            },
            "colorscale": [
             [
              0,
              "#0d0887"
             ],
             [
              0.1111111111111111,
              "#46039f"
             ],
             [
              0.2222222222222222,
              "#7201a8"
             ],
             [
              0.3333333333333333,
              "#9c179e"
             ],
             [
              0.4444444444444444,
              "#bd3786"
             ],
             [
              0.5555555555555556,
              "#d8576b"
             ],
             [
              0.6666666666666666,
              "#ed7953"
             ],
             [
              0.7777777777777778,
              "#fb9f3a"
             ],
             [
              0.8888888888888888,
              "#fdca26"
             ],
             [
              1,
              "#f0f921"
             ]
            ],
            "type": "heatmapgl"
           }
          ],
          "histogram": [
           {
            "marker": {
             "pattern": {
              "fillmode": "overlay",
              "size": 10,
              "solidity": 0.2
             }
            },
            "type": "histogram"
           }
          ],
          "histogram2d": [
           {
            "colorbar": {
             "outlinewidth": 0,
             "ticks": ""
            },
            "colorscale": [
             [
              0,
              "#0d0887"
             ],
             [
              0.1111111111111111,
              "#46039f"
             ],
             [
              0.2222222222222222,
              "#7201a8"
             ],
             [
              0.3333333333333333,
              "#9c179e"
             ],
             [
              0.4444444444444444,
              "#bd3786"
             ],
             [
              0.5555555555555556,
              "#d8576b"
             ],
             [
              0.6666666666666666,
              "#ed7953"
             ],
             [
              0.7777777777777778,
              "#fb9f3a"
             ],
             [
              0.8888888888888888,
              "#fdca26"
             ],
             [
              1,
              "#f0f921"
             ]
            ],
            "type": "histogram2d"
           }
          ],
          "histogram2dcontour": [
           {
            "colorbar": {
             "outlinewidth": 0,
             "ticks": ""
            },
            "colorscale": [
             [
              0,
              "#0d0887"
             ],
             [
              0.1111111111111111,
              "#46039f"
             ],
             [
              0.2222222222222222,
              "#7201a8"
             ],
             [
              0.3333333333333333,
              "#9c179e"
             ],
             [
              0.4444444444444444,
              "#bd3786"
             ],
             [
              0.5555555555555556,
              "#d8576b"
             ],
             [
              0.6666666666666666,
              "#ed7953"
             ],
             [
              0.7777777777777778,
              "#fb9f3a"
             ],
             [
              0.8888888888888888,
              "#fdca26"
             ],
             [
              1,
              "#f0f921"
             ]
            ],
            "type": "histogram2dcontour"
           }
          ],
          "mesh3d": [
           {
            "colorbar": {
             "outlinewidth": 0,
             "ticks": ""
            },
            "type": "mesh3d"
           }
          ],
          "parcoords": [
           {
            "line": {
             "colorbar": {
              "outlinewidth": 0,
              "ticks": ""
             }
            },
            "type": "parcoords"
           }
          ],
          "pie": [
           {
            "automargin": true,
            "type": "pie"
           }
          ],
          "scatter": [
           {
            "fillpattern": {
             "fillmode": "overlay",
             "size": 10,
             "solidity": 0.2
            },
            "type": "scatter"
           }
          ],
          "scatter3d": [
           {
            "line": {
             "colorbar": {
              "outlinewidth": 0,
              "ticks": ""
             }
            },
            "marker": {
             "colorbar": {
              "outlinewidth": 0,
              "ticks": ""
             }
            },
            "type": "scatter3d"
           }
          ],
          "scattercarpet": [
           {
            "marker": {
             "colorbar": {
              "outlinewidth": 0,
              "ticks": ""
             }
            },
            "type": "scattercarpet"
           }
          ],
          "scattergeo": [
           {
            "marker": {
             "colorbar": {
              "outlinewidth": 0,
              "ticks": ""
             }
            },
            "type": "scattergeo"
           }
          ],
          "scattergl": [
           {
            "marker": {
             "colorbar": {
              "outlinewidth": 0,
              "ticks": ""
             }
            },
            "type": "scattergl"
           }
          ],
          "scattermapbox": [
           {
            "marker": {
             "colorbar": {
              "outlinewidth": 0,
              "ticks": ""
             }
            },
            "type": "scattermapbox"
           }
          ],
          "scatterpolar": [
           {
            "marker": {
             "colorbar": {
              "outlinewidth": 0,
              "ticks": ""
             }
            },
            "type": "scatterpolar"
           }
          ],
          "scatterpolargl": [
           {
            "marker": {
             "colorbar": {
              "outlinewidth": 0,
              "ticks": ""
             }
            },
            "type": "scatterpolargl"
           }
          ],
          "scatterternary": [
           {
            "marker": {
             "colorbar": {
              "outlinewidth": 0,
              "ticks": ""
             }
            },
            "type": "scatterternary"
           }
          ],
          "surface": [
           {
            "colorbar": {
             "outlinewidth": 0,
             "ticks": ""
            },
            "colorscale": [
             [
              0,
              "#0d0887"
             ],
             [
              0.1111111111111111,
              "#46039f"
             ],
             [
              0.2222222222222222,
              "#7201a8"
             ],
             [
              0.3333333333333333,
              "#9c179e"
             ],
             [
              0.4444444444444444,
              "#bd3786"
             ],
             [
              0.5555555555555556,
              "#d8576b"
             ],
             [
              0.6666666666666666,
              "#ed7953"
             ],
             [
              0.7777777777777778,
              "#fb9f3a"
             ],
             [
              0.8888888888888888,
              "#fdca26"
             ],
             [
              1,
              "#f0f921"
             ]
            ],
            "type": "surface"
           }
          ],
          "table": [
           {
            "cells": {
             "fill": {
              "color": "#EBF0F8"
             },
             "line": {
              "color": "white"
             }
            },
            "header": {
             "fill": {
              "color": "#C8D4E3"
             },
             "line": {
              "color": "white"
             }
            },
            "type": "table"
           }
          ]
         },
         "layout": {
          "annotationdefaults": {
           "arrowcolor": "#2a3f5f",
           "arrowhead": 0,
           "arrowwidth": 1
          },
          "autotypenumbers": "strict",
          "coloraxis": {
           "colorbar": {
            "outlinewidth": 0,
            "ticks": ""
           }
          },
          "colorscale": {
           "diverging": [
            [
             0,
             "#8e0152"
            ],
            [
             0.1,
             "#c51b7d"
            ],
            [
             0.2,
             "#de77ae"
            ],
            [
             0.3,
             "#f1b6da"
            ],
            [
             0.4,
             "#fde0ef"
            ],
            [
             0.5,
             "#f7f7f7"
            ],
            [
             0.6,
             "#e6f5d0"
            ],
            [
             0.7,
             "#b8e186"
            ],
            [
             0.8,
             "#7fbc41"
            ],
            [
             0.9,
             "#4d9221"
            ],
            [
             1,
             "#276419"
            ]
           ],
           "sequential": [
            [
             0,
             "#0d0887"
            ],
            [
             0.1111111111111111,
             "#46039f"
            ],
            [
             0.2222222222222222,
             "#7201a8"
            ],
            [
             0.3333333333333333,
             "#9c179e"
            ],
            [
             0.4444444444444444,
             "#bd3786"
            ],
            [
             0.5555555555555556,
             "#d8576b"
            ],
            [
             0.6666666666666666,
             "#ed7953"
            ],
            [
             0.7777777777777778,
             "#fb9f3a"
            ],
            [
             0.8888888888888888,
             "#fdca26"
            ],
            [
             1,
             "#f0f921"
            ]
           ],
           "sequentialminus": [
            [
             0,
             "#0d0887"
            ],
            [
             0.1111111111111111,
             "#46039f"
            ],
            [
             0.2222222222222222,
             "#7201a8"
            ],
            [
             0.3333333333333333,
             "#9c179e"
            ],
            [
             0.4444444444444444,
             "#bd3786"
            ],
            [
             0.5555555555555556,
             "#d8576b"
            ],
            [
             0.6666666666666666,
             "#ed7953"
            ],
            [
             0.7777777777777778,
             "#fb9f3a"
            ],
            [
             0.8888888888888888,
             "#fdca26"
            ],
            [
             1,
             "#f0f921"
            ]
           ]
          },
          "colorway": [
           "#636efa",
           "#EF553B",
           "#00cc96",
           "#ab63fa",
           "#FFA15A",
           "#19d3f3",
           "#FF6692",
           "#B6E880",
           "#FF97FF",
           "#FECB52"
          ],
          "font": {
           "color": "#2a3f5f"
          },
          "geo": {
           "bgcolor": "white",
           "lakecolor": "white",
           "landcolor": "#E5ECF6",
           "showlakes": true,
           "showland": true,
           "subunitcolor": "white"
          },
          "hoverlabel": {
           "align": "left"
          },
          "hovermode": "closest",
          "mapbox": {
           "style": "light"
          },
          "paper_bgcolor": "white",
          "plot_bgcolor": "#E5ECF6",
          "polar": {
           "angularaxis": {
            "gridcolor": "white",
            "linecolor": "white",
            "ticks": ""
           },
           "bgcolor": "#E5ECF6",
           "radialaxis": {
            "gridcolor": "white",
            "linecolor": "white",
            "ticks": ""
           }
          },
          "scene": {
           "xaxis": {
            "backgroundcolor": "#E5ECF6",
            "gridcolor": "white",
            "gridwidth": 2,
            "linecolor": "white",
            "showbackground": true,
            "ticks": "",
            "zerolinecolor": "white"
           },
           "yaxis": {
            "backgroundcolor": "#E5ECF6",
            "gridcolor": "white",
            "gridwidth": 2,
            "linecolor": "white",
            "showbackground": true,
            "ticks": "",
            "zerolinecolor": "white"
           },
           "zaxis": {
            "backgroundcolor": "#E5ECF6",
            "gridcolor": "white",
            "gridwidth": 2,
            "linecolor": "white",
            "showbackground": true,
            "ticks": "",
            "zerolinecolor": "white"
           }
          },
          "shapedefaults": {
           "line": {
            "color": "#2a3f5f"
           }
          },
          "ternary": {
           "aaxis": {
            "gridcolor": "white",
            "linecolor": "white",
            "ticks": ""
           },
           "baxis": {
            "gridcolor": "white",
            "linecolor": "white",
            "ticks": ""
           },
           "bgcolor": "#E5ECF6",
           "caxis": {
            "gridcolor": "white",
            "linecolor": "white",
            "ticks": ""
           }
          },
          "title": {
           "x": 0.05
          },
          "xaxis": {
           "automargin": true,
           "gridcolor": "white",
           "linecolor": "white",
           "ticks": "",
           "title": {
            "standoff": 15
           },
           "zerolinecolor": "white",
           "zerolinewidth": 2
          },
          "yaxis": {
           "automargin": true,
           "gridcolor": "white",
           "linecolor": "white",
           "ticks": "",
           "title": {
            "standoff": 15
           },
           "zerolinecolor": "white",
           "zerolinewidth": 2
          }
         }
        },
        "title": {
         "text": "Total Cases and Deaths by Ethnicity Group in NC"
        },
        "xaxis": {
         "anchor": "y",
         "domain": [
          0,
          1
         ],
         "title": {
          "text": "Ethnicity Group"
         }
        },
        "yaxis": {
         "anchor": "x",
         "domain": [
          0,
          1
         ],
         "title": {
          "text": "Count"
         }
        }
       }
      }
     },
     "metadata": {},
     "output_type": "display_data"
    },
    {
     "data": {
      "application/vnd.plotly.v1+json": {
       "config": {
        "plotlyServerURL": "https://plot.ly"
       },
       "data": [
        {
         "alignmentgroup": "True",
         "hovertemplate": "Category=Total Cases<br>Race Group=%{x}<br>Count=%{y}<extra></extra>",
         "legendgroup": "Total Cases",
         "marker": {
          "color": "#636efa",
          "pattern": {
           "shape": ""
          }
         },
         "name": "Total Cases",
         "offsetgroup": "Total Cases",
         "orientation": "v",
         "showlegend": true,
         "textposition": "auto",
         "type": "bar",
         "x": [
          "AIAN",
          "Asian",
          "Black",
          "Other",
          "White"
         ],
         "xaxis": "x",
         "y": [
          349057,
          416843,
          4727544,
          3103452,
          13422999
         ],
         "yaxis": "y"
        },
        {
         "alignmentgroup": "True",
         "hovertemplate": "Category=Total Deaths<br>Race Group=%{x}<br>Count=%{y}<extra></extra>",
         "legendgroup": "Total Deaths",
         "marker": {
          "color": "#EF553B",
          "pattern": {
           "shape": ""
          }
         },
         "name": "Total Deaths",
         "offsetgroup": "Total Deaths",
         "orientation": "v",
         "showlegend": true,
         "textposition": "auto",
         "type": "bar",
         "x": [
          "AIAN",
          "Asian",
          "Black",
          "Other",
          "White"
         ],
         "xaxis": "x",
         "y": [
          4533,
          4495,
          101706,
          23861,
          232906
         ],
         "yaxis": "y"
        }
       ],
       "layout": {
        "barmode": "group",
        "hoverlabel": {
         "bgcolor": "white",
         "font": {
          "size": 12
         }
        },
        "hovermode": "x unified",
        "legend": {
         "title": {
          "text": "Category"
         },
         "tracegroupgap": 0
        },
        "template": {
         "data": {
          "bar": [
           {
            "error_x": {
             "color": "#2a3f5f"
            },
            "error_y": {
             "color": "#2a3f5f"
            },
            "marker": {
             "line": {
              "color": "#E5ECF6",
              "width": 0.5
             },
             "pattern": {
              "fillmode": "overlay",
              "size": 10,
              "solidity": 0.2
             }
            },
            "type": "bar"
           }
          ],
          "barpolar": [
           {
            "marker": {
             "line": {
              "color": "#E5ECF6",
              "width": 0.5
             },
             "pattern": {
              "fillmode": "overlay",
              "size": 10,
              "solidity": 0.2
             }
            },
            "type": "barpolar"
           }
          ],
          "carpet": [
           {
            "aaxis": {
             "endlinecolor": "#2a3f5f",
             "gridcolor": "white",
             "linecolor": "white",
             "minorgridcolor": "white",
             "startlinecolor": "#2a3f5f"
            },
            "baxis": {
             "endlinecolor": "#2a3f5f",
             "gridcolor": "white",
             "linecolor": "white",
             "minorgridcolor": "white",
             "startlinecolor": "#2a3f5f"
            },
            "type": "carpet"
           }
          ],
          "choropleth": [
           {
            "colorbar": {
             "outlinewidth": 0,
             "ticks": ""
            },
            "type": "choropleth"
           }
          ],
          "contour": [
           {
            "colorbar": {
             "outlinewidth": 0,
             "ticks": ""
            },
            "colorscale": [
             [
              0,
              "#0d0887"
             ],
             [
              0.1111111111111111,
              "#46039f"
             ],
             [
              0.2222222222222222,
              "#7201a8"
             ],
             [
              0.3333333333333333,
              "#9c179e"
             ],
             [
              0.4444444444444444,
              "#bd3786"
             ],
             [
              0.5555555555555556,
              "#d8576b"
             ],
             [
              0.6666666666666666,
              "#ed7953"
             ],
             [
              0.7777777777777778,
              "#fb9f3a"
             ],
             [
              0.8888888888888888,
              "#fdca26"
             ],
             [
              1,
              "#f0f921"
             ]
            ],
            "type": "contour"
           }
          ],
          "contourcarpet": [
           {
            "colorbar": {
             "outlinewidth": 0,
             "ticks": ""
            },
            "type": "contourcarpet"
           }
          ],
          "heatmap": [
           {
            "colorbar": {
             "outlinewidth": 0,
             "ticks": ""
            },
            "colorscale": [
             [
              0,
              "#0d0887"
             ],
             [
              0.1111111111111111,
              "#46039f"
             ],
             [
              0.2222222222222222,
              "#7201a8"
             ],
             [
              0.3333333333333333,
              "#9c179e"
             ],
             [
              0.4444444444444444,
              "#bd3786"
             ],
             [
              0.5555555555555556,
              "#d8576b"
             ],
             [
              0.6666666666666666,
              "#ed7953"
             ],
             [
              0.7777777777777778,
              "#fb9f3a"
             ],
             [
              0.8888888888888888,
              "#fdca26"
             ],
             [
              1,
              "#f0f921"
             ]
            ],
            "type": "heatmap"
           }
          ],
          "heatmapgl": [
           {
            "colorbar": {
             "outlinewidth": 0,
             "ticks": ""
            },
            "colorscale": [
             [
              0,
              "#0d0887"
             ],
             [
              0.1111111111111111,
              "#46039f"
             ],
             [
              0.2222222222222222,
              "#7201a8"
             ],
             [
              0.3333333333333333,
              "#9c179e"
             ],
             [
              0.4444444444444444,
              "#bd3786"
             ],
             [
              0.5555555555555556,
              "#d8576b"
             ],
             [
              0.6666666666666666,
              "#ed7953"
             ],
             [
              0.7777777777777778,
              "#fb9f3a"
             ],
             [
              0.8888888888888888,
              "#fdca26"
             ],
             [
              1,
              "#f0f921"
             ]
            ],
            "type": "heatmapgl"
           }
          ],
          "histogram": [
           {
            "marker": {
             "pattern": {
              "fillmode": "overlay",
              "size": 10,
              "solidity": 0.2
             }
            },
            "type": "histogram"
           }
          ],
          "histogram2d": [
           {
            "colorbar": {
             "outlinewidth": 0,
             "ticks": ""
            },
            "colorscale": [
             [
              0,
              "#0d0887"
             ],
             [
              0.1111111111111111,
              "#46039f"
             ],
             [
              0.2222222222222222,
              "#7201a8"
             ],
             [
              0.3333333333333333,
              "#9c179e"
             ],
             [
              0.4444444444444444,
              "#bd3786"
             ],
             [
              0.5555555555555556,
              "#d8576b"
             ],
             [
              0.6666666666666666,
              "#ed7953"
             ],
             [
              0.7777777777777778,
              "#fb9f3a"
             ],
             [
              0.8888888888888888,
              "#fdca26"
             ],
             [
              1,
              "#f0f921"
             ]
            ],
            "type": "histogram2d"
           }
          ],
          "histogram2dcontour": [
           {
            "colorbar": {
             "outlinewidth": 0,
             "ticks": ""
            },
            "colorscale": [
             [
              0,
              "#0d0887"
             ],
             [
              0.1111111111111111,
              "#46039f"
             ],
             [
              0.2222222222222222,
              "#7201a8"
             ],
             [
              0.3333333333333333,
              "#9c179e"
             ],
             [
              0.4444444444444444,
              "#bd3786"
             ],
             [
              0.5555555555555556,
              "#d8576b"
             ],
             [
              0.6666666666666666,
              "#ed7953"
             ],
             [
              0.7777777777777778,
              "#fb9f3a"
             ],
             [
              0.8888888888888888,
              "#fdca26"
             ],
             [
              1,
              "#f0f921"
             ]
            ],
            "type": "histogram2dcontour"
           }
          ],
          "mesh3d": [
           {
            "colorbar": {
             "outlinewidth": 0,
             "ticks": ""
            },
            "type": "mesh3d"
           }
          ],
          "parcoords": [
           {
            "line": {
             "colorbar": {
              "outlinewidth": 0,
              "ticks": ""
             }
            },
            "type": "parcoords"
           }
          ],
          "pie": [
           {
            "automargin": true,
            "type": "pie"
           }
          ],
          "scatter": [
           {
            "fillpattern": {
             "fillmode": "overlay",
             "size": 10,
             "solidity": 0.2
            },
            "type": "scatter"
           }
          ],
          "scatter3d": [
           {
            "line": {
             "colorbar": {
              "outlinewidth": 0,
              "ticks": ""
             }
            },
            "marker": {
             "colorbar": {
              "outlinewidth": 0,
              "ticks": ""
             }
            },
            "type": "scatter3d"
           }
          ],
          "scattercarpet": [
           {
            "marker": {
             "colorbar": {
              "outlinewidth": 0,
              "ticks": ""
             }
            },
            "type": "scattercarpet"
           }
          ],
          "scattergeo": [
           {
            "marker": {
             "colorbar": {
              "outlinewidth": 0,
              "ticks": ""
             }
            },
            "type": "scattergeo"
           }
          ],
          "scattergl": [
           {
            "marker": {
             "colorbar": {
              "outlinewidth": 0,
              "ticks": ""
             }
            },
            "type": "scattergl"
           }
          ],
          "scattermapbox": [
           {
            "marker": {
             "colorbar": {
              "outlinewidth": 0,
              "ticks": ""
             }
            },
            "type": "scattermapbox"
           }
          ],
          "scatterpolar": [
           {
            "marker": {
             "colorbar": {
              "outlinewidth": 0,
              "ticks": ""
             }
            },
            "type": "scatterpolar"
           }
          ],
          "scatterpolargl": [
           {
            "marker": {
             "colorbar": {
              "outlinewidth": 0,
              "ticks": ""
             }
            },
            "type": "scatterpolargl"
           }
          ],
          "scatterternary": [
           {
            "marker": {
             "colorbar": {
              "outlinewidth": 0,
              "ticks": ""
             }
            },
            "type": "scatterternary"
           }
          ],
          "surface": [
           {
            "colorbar": {
             "outlinewidth": 0,
             "ticks": ""
            },
            "colorscale": [
             [
              0,
              "#0d0887"
             ],
             [
              0.1111111111111111,
              "#46039f"
             ],
             [
              0.2222222222222222,
              "#7201a8"
             ],
             [
              0.3333333333333333,
              "#9c179e"
             ],
             [
              0.4444444444444444,
              "#bd3786"
             ],
             [
              0.5555555555555556,
              "#d8576b"
             ],
             [
              0.6666666666666666,
              "#ed7953"
             ],
             [
              0.7777777777777778,
              "#fb9f3a"
             ],
             [
              0.8888888888888888,
              "#fdca26"
             ],
             [
              1,
              "#f0f921"
             ]
            ],
            "type": "surface"
           }
          ],
          "table": [
           {
            "cells": {
             "fill": {
              "color": "#EBF0F8"
             },
             "line": {
              "color": "white"
             }
            },
            "header": {
             "fill": {
              "color": "#C8D4E3"
             },
             "line": {
              "color": "white"
             }
            },
            "type": "table"
           }
          ]
         },
         "layout": {
          "annotationdefaults": {
           "arrowcolor": "#2a3f5f",
           "arrowhead": 0,
           "arrowwidth": 1
          },
          "autotypenumbers": "strict",
          "coloraxis": {
           "colorbar": {
            "outlinewidth": 0,
            "ticks": ""
           }
          },
          "colorscale": {
           "diverging": [
            [
             0,
             "#8e0152"
            ],
            [
             0.1,
             "#c51b7d"
            ],
            [
             0.2,
             "#de77ae"
            ],
            [
             0.3,
             "#f1b6da"
            ],
            [
             0.4,
             "#fde0ef"
            ],
            [
             0.5,
             "#f7f7f7"
            ],
            [
             0.6,
             "#e6f5d0"
            ],
            [
             0.7,
             "#b8e186"
            ],
            [
             0.8,
             "#7fbc41"
            ],
            [
             0.9,
             "#4d9221"
            ],
            [
             1,
             "#276419"
            ]
           ],
           "sequential": [
            [
             0,
             "#0d0887"
            ],
            [
             0.1111111111111111,
             "#46039f"
            ],
            [
             0.2222222222222222,
             "#7201a8"
            ],
            [
             0.3333333333333333,
             "#9c179e"
            ],
            [
             0.4444444444444444,
             "#bd3786"
            ],
            [
             0.5555555555555556,
             "#d8576b"
            ],
            [
             0.6666666666666666,
             "#ed7953"
            ],
            [
             0.7777777777777778,
             "#fb9f3a"
            ],
            [
             0.8888888888888888,
             "#fdca26"
            ],
            [
             1,
             "#f0f921"
            ]
           ],
           "sequentialminus": [
            [
             0,
             "#0d0887"
            ],
            [
             0.1111111111111111,
             "#46039f"
            ],
            [
             0.2222222222222222,
             "#7201a8"
            ],
            [
             0.3333333333333333,
             "#9c179e"
            ],
            [
             0.4444444444444444,
             "#bd3786"
            ],
            [
             0.5555555555555556,
             "#d8576b"
            ],
            [
             0.6666666666666666,
             "#ed7953"
            ],
            [
             0.7777777777777778,
             "#fb9f3a"
            ],
            [
             0.8888888888888888,
             "#fdca26"
            ],
            [
             1,
             "#f0f921"
            ]
           ]
          },
          "colorway": [
           "#636efa",
           "#EF553B",
           "#00cc96",
           "#ab63fa",
           "#FFA15A",
           "#19d3f3",
           "#FF6692",
           "#B6E880",
           "#FF97FF",
           "#FECB52"
          ],
          "font": {
           "color": "#2a3f5f"
          },
          "geo": {
           "bgcolor": "white",
           "lakecolor": "white",
           "landcolor": "#E5ECF6",
           "showlakes": true,
           "showland": true,
           "subunitcolor": "white"
          },
          "hoverlabel": {
           "align": "left"
          },
          "hovermode": "closest",
          "mapbox": {
           "style": "light"
          },
          "paper_bgcolor": "white",
          "plot_bgcolor": "#E5ECF6",
          "polar": {
           "angularaxis": {
            "gridcolor": "white",
            "linecolor": "white",
            "ticks": ""
           },
           "bgcolor": "#E5ECF6",
           "radialaxis": {
            "gridcolor": "white",
            "linecolor": "white",
            "ticks": ""
           }
          },
          "scene": {
           "xaxis": {
            "backgroundcolor": "#E5ECF6",
            "gridcolor": "white",
            "gridwidth": 2,
            "linecolor": "white",
            "showbackground": true,
            "ticks": "",
            "zerolinecolor": "white"
           },
           "yaxis": {
            "backgroundcolor": "#E5ECF6",
            "gridcolor": "white",
            "gridwidth": 2,
            "linecolor": "white",
            "showbackground": true,
            "ticks": "",
            "zerolinecolor": "white"
           },
           "zaxis": {
            "backgroundcolor": "#E5ECF6",
            "gridcolor": "white",
            "gridwidth": 2,
            "linecolor": "white",
            "showbackground": true,
            "ticks": "",
            "zerolinecolor": "white"
           }
          },
          "shapedefaults": {
           "line": {
            "color": "#2a3f5f"
           }
          },
          "ternary": {
           "aaxis": {
            "gridcolor": "white",
            "linecolor": "white",
            "ticks": ""
           },
           "baxis": {
            "gridcolor": "white",
            "linecolor": "white",
            "ticks": ""
           },
           "bgcolor": "#E5ECF6",
           "caxis": {
            "gridcolor": "white",
            "linecolor": "white",
            "ticks": ""
           }
          },
          "title": {
           "x": 0.05
          },
          "xaxis": {
           "automargin": true,
           "gridcolor": "white",
           "linecolor": "white",
           "ticks": "",
           "title": {
            "standoff": 15
           },
           "zerolinecolor": "white",
           "zerolinewidth": 2
          },
          "yaxis": {
           "automargin": true,
           "gridcolor": "white",
           "linecolor": "white",
           "ticks": "",
           "title": {
            "standoff": 15
           },
           "zerolinecolor": "white",
           "zerolinewidth": 2
          }
         }
        },
        "title": {
         "text": "Total Cases and Deaths by Racial Group in NC"
        },
        "xaxis": {
         "anchor": "y",
         "domain": [
          0,
          1
         ],
         "title": {
          "text": "Race Group"
         }
        },
        "yaxis": {
         "anchor": "x",
         "domain": [
          0,
          1
         ],
         "title": {
          "text": "Count"
         }
        }
       }
      }
     },
     "metadata": {},
     "output_type": "display_data"
    }
   ],
   "source": [
    "# Extracting ethnicity groups\n",
    "ethnicity_groups = ['Ethnicity_Hispanic', 'Ethnicity_NonHispanic', 'Ethnicity_Unknown']\n",
    "\n",
    "# Create a DataFrame for total cases and deaths by ethnicity\n",
    "df_ethnicity_cases = pd.DataFrame({\n",
    "    'Ethnicity Group': ethnicity_groups * 2,\n",
    "    'Total Numbers': list(racial_data_df[['Cases_Ethnicity_Hispanic', 'Cases_Ethnicity_NonHispanic', 'Cases_Ethnicity_Unknown']].sum()) +\n",
    "                     list(racial_data_df[['Deaths_Ethnicity_Hispanic', 'Deaths_Ethnicity_NonHispanic', 'Deaths_Ethnicity_Unknown']].sum()),\n",
    "    'Category': ['Total Cases'] * 3 + ['Total Deaths'] * 3\n",
    "})\n",
    "\n",
    "# Plot with Plotly Express for total cases and deaths by ethnicity\n",
    "fig_ethnicity_cases = px.bar(df_ethnicity_cases, x='Ethnicity Group', y='Total Numbers', color='Category',\n",
    "                             labels={'Total Numbers': 'Count'},\n",
    "                             title='Total Cases and Deaths by Ethnicity Group in NC',\n",
    "                             barmode='group')\n",
    "\n",
    "# Update layout for better hover formatting\n",
    "fig_ethnicity_cases.update_layout(hovermode=\"x unified\", hoverlabel=dict(bgcolor=\"white\", font_size=12))\n",
    "\n",
    "# Save as HTML\n",
    "fig_ethnicity_cases.write_html('ethnicity_cases_plot.html')\n",
    "\n",
    "# Show the plot\n",
    "fig_ethnicity_cases.show()\n",
    "\n",
    "#Extracting race groups\n",
    "race_groups = ['AIAN', 'Asian', 'Black', 'Other', 'White']\n",
    "\n",
    "# Create a DataFrame for total cases and deaths by race\n",
    "df_race_cases = pd.DataFrame({\n",
    "    'Race Group': race_groups * 2,\n",
    "    'Total Cases': list(racial_data_df[['Cases_AIAN', 'Cases_Asian', 'Cases_Black', 'Cases_Other', 'Cases_White']].sum()) +\n",
    "                   list(racial_data_df[['Deaths_AIAN', 'Deaths_Asian', 'Deaths_Black', 'Deaths_Other', 'Deaths_White']].sum()),\n",
    "    'Category': ['Total Cases'] * 5 + ['Total Deaths'] * 5\n",
    "})\n",
    "\n",
    "# Plot with Plotly Express for total cases and deaths by race\n",
    "fig_race_cases = px.bar(df_race_cases, x='Race Group', y='Total Cases', color='Category',\n",
    "                         labels={'Total Cases': 'Count'},\n",
    "                         title='Total Cases and Deaths by Racial Group in NC',\n",
    "                         barmode='group')\n",
    "\n",
    "# Update layout for better hover formatting\n",
    "fig_race_cases.update_layout(hovermode=\"x unified\", hoverlabel=dict(bgcolor=\"white\", font_size=12))\n",
    "\n",
    "# Save as HTML\n",
    "fig_race_cases.write_html('race_cases_plot.html')\n",
    "\n",
    "# Show the plot\n",
    "fig_race_cases.show()"
   ]
  },
  {
   "cell_type": "markdown",
   "id": "49d33018",
   "metadata": {},
   "source": [
    "### Analysis between the Total Cases Vs. Deaths by Ethnicity and Racial Groups in NC\n",
    "Notable variations exist in the total number of cases, with some groups experiencing higher incidence rates than others. Additionally, disparities in total deaths underscore the disproportionate impact of the virus on specific communities. Examining case-to-death ratios provides insights into the severity of outcomes for different racial groups. Challenges arise from categories such as \"Ethnicity_Unknown\" and \"Deaths_Other,\" emphasizing the importance of improved data clarity."
   ]
  },
  {
   "cell_type": "code",
   "execution_count": null,
   "id": "2f03a6b1",
   "metadata": {},
   "outputs": [],
   "source": []
  }
 ],
 "metadata": {
  "kernelspec": {
   "display_name": "Python 3 (ipykernel)",
   "language": "python",
   "name": "python3"
  },
  "language_info": {
   "codemirror_mode": {
    "name": "ipython",
    "version": 3
   },
   "file_extension": ".py",
   "mimetype": "text/x-python",
   "name": "python",
   "nbconvert_exporter": "python",
   "pygments_lexer": "ipython3",
   "version": "3.11.5"
  }
 },
 "nbformat": 4,
 "nbformat_minor": 5
}
